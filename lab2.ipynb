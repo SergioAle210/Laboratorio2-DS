{
 "cells": [
  {
   "cell_type": "markdown",
   "metadata": {},
   "source": [
    "# Red Neuronal Profunda (DNN) para clasificación MNIST\n",
    "\n",
    "Aplicaremos todos nuestros conocimientos para crear una DNN, frecuentemente llamada también una Artificial Neural Network (ANN). El problema que vamos a trabajar se conoce como el \"Hola Mundo\" del aprendizaje profundo porque para la mayoría de estudiantes este es el primer algoritmo de aprendizaje profundo que ven.\n",
    "\n",
    "El conjunto de datos se llama MNIST y se refiere al reconocimiento de dígitos escritos a mano. Pueden encontrar más información en el sitio web de Yann LeCun (Director of AI Research, Facebook). El es uno de los pioneros de todo este tema, así como de otras metodologías más complejas como las Redes Neurales Convolucionales (CNN) que se utilizan hoy día.\n",
    "\n",
    "El conjunto de datos tiene 70,000 imágenes (28x28 pixels) de dígitos escritos a mano (1 dígito por imagen).\n",
    "\n",
    "La meta es escribir un algoritmo que detecta qué dígito ha sido escrito. Como solo hay 10 dígitos (0 al 9), este es un problema de clasificación con 10 clases.\n",
    "\n",
    "Nuestra meta será construir una RN con 2 capas escondidas.\n"
   ]
  },
  {
   "cell_type": "markdown",
   "metadata": {},
   "source": [
    "## Plan de Acción para preparar el modelo\n",
    "\n",
    "1.  Preparar los datos y preprocesarlos. Crear los conjuntos de datos para entrenar, validar y probar\n",
    "2.  Crear un esboso del modelo y seleccionar las funciones de activación\n",
    "3.  Fijar los optimizadores avanzados y la función de pérdida\n",
    "4.  Hacer que el modelo aprenda\n",
    "5.  Probar la exactitud (\"accuracy\") del modelo\n"
   ]
  },
  {
   "cell_type": "markdown",
   "metadata": {},
   "source": [
    "## Importar los paquetes relevantes\n",
    "\n",
    "TensorFlow incluye un proveedor de los datos de MNIST que utilizaremos acá. Viene con el módulo **\"tensorflow.tf.datasets\"**.\n"
   ]
  },
  {
   "cell_type": "code",
   "execution_count": null,
   "metadata": {
    "tags": []
   },
   "outputs": [],
   "source": [
    "import numpy as np\n",
    "import tensorflow as tf\n",
    "import time\n",
    "import matplotlib.pyplot as plt\n",
    "import pandas as pd"
   ]
  },
  {
   "cell_type": "markdown",
   "metadata": {},
   "source": [
    "La siguiente instrucción, cuando se corre por primera vez, descarga el conjunto de datos en lo indicado por el parámetro path, relativo a ~/.tf/datasets). Como si se hubiera ejecutado Lo siguiente:\n",
    "\n",
    "tf.keras.datasets.mnist.load_data(\n",
    "path = 'mnist.npz'\n",
    ")\n",
    "\n",
    "luego separa los datos en un conjunto para entrenamiento y otro para pruebas.\n",
    "\n",
    "Si se ejecuta más de una vez, ya no descarga el archivo.\n"
   ]
  },
  {
   "cell_type": "code",
   "execution_count": null,
   "metadata": {},
   "outputs": [],
   "source": [
    "(X_entreno, y_entreno), (X_prueba, y_prueba) = tf.keras.datasets.mnist.load_data()"
   ]
  },
  {
   "cell_type": "code",
   "execution_count": null,
   "metadata": {},
   "outputs": [
    {
     "data": {
      "text/plain": [
       "array([[[0, 0, 0, ..., 0, 0, 0],\n",
       "        [0, 0, 0, ..., 0, 0, 0],\n",
       "        [0, 0, 0, ..., 0, 0, 0],\n",
       "        ...,\n",
       "        [0, 0, 0, ..., 0, 0, 0],\n",
       "        [0, 0, 0, ..., 0, 0, 0],\n",
       "        [0, 0, 0, ..., 0, 0, 0]],\n",
       "\n",
       "       [[0, 0, 0, ..., 0, 0, 0],\n",
       "        [0, 0, 0, ..., 0, 0, 0],\n",
       "        [0, 0, 0, ..., 0, 0, 0],\n",
       "        ...,\n",
       "        [0, 0, 0, ..., 0, 0, 0],\n",
       "        [0, 0, 0, ..., 0, 0, 0],\n",
       "        [0, 0, 0, ..., 0, 0, 0]],\n",
       "\n",
       "       [[0, 0, 0, ..., 0, 0, 0],\n",
       "        [0, 0, 0, ..., 0, 0, 0],\n",
       "        [0, 0, 0, ..., 0, 0, 0],\n",
       "        ...,\n",
       "        [0, 0, 0, ..., 0, 0, 0],\n",
       "        [0, 0, 0, ..., 0, 0, 0],\n",
       "        [0, 0, 0, ..., 0, 0, 0]],\n",
       "\n",
       "       ...,\n",
       "\n",
       "       [[0, 0, 0, ..., 0, 0, 0],\n",
       "        [0, 0, 0, ..., 0, 0, 0],\n",
       "        [0, 0, 0, ..., 0, 0, 0],\n",
       "        ...,\n",
       "        [0, 0, 0, ..., 0, 0, 0],\n",
       "        [0, 0, 0, ..., 0, 0, 0],\n",
       "        [0, 0, 0, ..., 0, 0, 0]],\n",
       "\n",
       "       [[0, 0, 0, ..., 0, 0, 0],\n",
       "        [0, 0, 0, ..., 0, 0, 0],\n",
       "        [0, 0, 0, ..., 0, 0, 0],\n",
       "        ...,\n",
       "        [0, 0, 0, ..., 0, 0, 0],\n",
       "        [0, 0, 0, ..., 0, 0, 0],\n",
       "        [0, 0, 0, ..., 0, 0, 0]],\n",
       "\n",
       "       [[0, 0, 0, ..., 0, 0, 0],\n",
       "        [0, 0, 0, ..., 0, 0, 0],\n",
       "        [0, 0, 0, ..., 0, 0, 0],\n",
       "        ...,\n",
       "        [0, 0, 0, ..., 0, 0, 0],\n",
       "        [0, 0, 0, ..., 0, 0, 0],\n",
       "        [0, 0, 0, ..., 0, 0, 0]]], shape=(60000, 28, 28), dtype=uint8)"
      ]
     },
     "execution_count": 10,
     "metadata": {},
     "output_type": "execute_result"
    }
   ],
   "source": [
    "X_entreno"
   ]
  },
  {
   "cell_type": "raw",
   "metadata": {},
   "source": [
    "X_entreno.shape"
   ]
  },
  {
   "cell_type": "markdown",
   "metadata": {},
   "source": [
    "Como no podemos ver la forma de los conjuntos...les queda de tarea averiguar por qué no...podemos utilizar la instrucción **assert**\n"
   ]
  },
  {
   "cell_type": "code",
   "execution_count": null,
   "metadata": {},
   "outputs": [],
   "source": [
    "assert X_entreno.shape == (60000, 28, 28)\n",
    "assert X_prueba.shape == (10000, 28, 28)\n",
    "assert y_entreno.shape == (60000,)\n",
    "assert y_prueba.shape == (10000,)"
   ]
  },
  {
   "cell_type": "markdown",
   "metadata": {},
   "source": [
    "## Datos\n",
    "\n",
    "Esta sección es donde pre-procesaremos nuestros datos.\n"
   ]
  },
  {
   "cell_type": "markdown",
   "metadata": {},
   "source": [
    "Por default, TF2 tiene conjuntos de datos de entrenamiento y de prueba, pero no tiene un conjunto de validación, por lo que debemos dividirlo por nuestra cuenta\n",
    "\n",
    "Lo haremos del mismo tamaño que el conjunto de prueba\n"
   ]
  },
  {
   "cell_type": "code",
   "execution_count": null,
   "metadata": {},
   "outputs": [],
   "source": [
    "num_obs_validacion = y_prueba.shape[0]"
   ]
  },
  {
   "cell_type": "markdown",
   "metadata": {},
   "source": [
    "Usaremos una variable dedicada para el número de observaciones de prueba\n"
   ]
  },
  {
   "cell_type": "code",
   "execution_count": null,
   "metadata": {},
   "outputs": [],
   "source": [
    "num_obs_prueba = y_prueba.shape[0]"
   ]
  },
  {
   "cell_type": "markdown",
   "metadata": {},
   "source": [
    "Generalmente preferimos \"normalizar\" nuestros datos en alguna forma para que el resultado sea numéricamente más estable. En este caso simplemente preferimos tener entradas entre 0 y 1, por lo que definimos una función, que reciba la imagen MNIST.\n",
    "\n",
    "Como los posibles valores de las entradas son entre 0 y 255 (256 posibles tonos de gris), al dividirlos por 255 obtenemos el resultado deseado.\n"
   ]
  },
  {
   "cell_type": "code",
   "execution_count": null,
   "metadata": {
    "tags": []
   },
   "outputs": [],
   "source": [
    "X_entreno_normalizado = X_entreno / 255"
   ]
  },
  {
   "cell_type": "markdown",
   "metadata": {},
   "source": [
    "Finalmente, normalizaremos y convertiremos los datos de pruebas en tandas. Los normalizamos para que tengan la misma magnitud que los datos de entrenamiento y validación.\n",
    "\n",
    "No hay necesidad de \"barajearlo\" ya que no estaremos entrenando con los datos de prueba. Habra una sola tanda, igual al tamaño de los datos de prueba.\n"
   ]
  },
  {
   "cell_type": "code",
   "execution_count": null,
   "metadata": {},
   "outputs": [],
   "source": [
    "X_prueba_normalizado = X_prueba / 255"
   ]
  },
  {
   "cell_type": "markdown",
   "metadata": {},
   "source": [
    "Una vez se han \"normalizado\" los datos, podemos proceder a extraer los datos de entrenamiento y de validación.\n",
    "\n",
    "Nuestros datos de validación serán 10000 para ser igual al conjunto de prueba.\n",
    "\n",
    "Finalmente, creamos una tanda con un tamaño de tanda igual al total de muestras de validación.\n"
   ]
  },
  {
   "cell_type": "code",
   "execution_count": null,
   "metadata": {},
   "outputs": [],
   "source": [
    "X_validacion = X_entreno_normalizado[-num_obs_validacion:, :, :]\n",
    "y_validacion = y_entreno[-num_obs_validacion:]"
   ]
  },
  {
   "cell_type": "markdown",
   "metadata": {},
   "source": [
    "Similarmente, los datos de entrenamiento son todos los demás por lo que nos salteamos tantas observaciones como las hay en el conjunto de validación.\n"
   ]
  },
  {
   "cell_type": "code",
   "execution_count": null,
   "metadata": {},
   "outputs": [],
   "source": [
    "X_entreno = X_entreno_normalizado[\n",
    "    : X_entreno_normalizado.shape[0] - num_obs_validacion, :, :\n",
    "]\n",
    "\n",
    "\n",
    "\n",
    "y_entreno = y_entreno[: y_entreno.shape[0] - num_obs_validacion]\n",
    "\n",
    "\n",
    "\n",
    "num_obs_entreno = y_entreno.shape[0]"
   ]
  },
  {
   "cell_type": "markdown",
   "metadata": {},
   "source": [
    "Convertir de Arreglos Numpy a Tensores\n"
   ]
  },
  {
   "cell_type": "code",
   "execution_count": null,
   "metadata": {},
   "outputs": [],
   "source": [
    "datos_entreno = tf.data.Dataset.from_tensor_slices((X_entreno, y_entreno))\n",
    "datos_validacion = tf.data.Dataset.from_tensor_slices((X_validacion, y_validacion))\n",
    "datos_prueba = tf.data.Dataset.from_tensor_slices((X_prueba, y_prueba))"
   ]
  },
  {
   "cell_type": "markdown",
   "metadata": {},
   "source": [
    "Barajear y hacer tandas con el conjunto de datos de entrenamiento\n"
   ]
  },
  {
   "cell_type": "code",
   "execution_count": null,
   "metadata": {},
   "outputs": [],
   "source": [
    "TAMANIO_TANDA = 100\n",
    "datos_entreno = datos_entreno.shuffle(buffer_size=num_obs_entreno).batch(TAMANIO_TANDA)"
   ]
  },
  {
   "cell_type": "markdown",
   "metadata": {},
   "source": [
    "Hacer tandas con los conjuntos de validación y prueba, no se necesita barajearlos\n"
   ]
  },
  {
   "cell_type": "code",
   "execution_count": null,
   "metadata": {},
   "outputs": [],
   "source": [
    "datos_validacion = datos_validacion.batch(TAMANIO_TANDA)\n",
    "datos_prueba = datos_prueba.batch(TAMANIO_TANDA)"
   ]
  },
  {
   "cell_type": "markdown",
   "metadata": {},
   "source": [
    "## Modelo\n"
   ]
  },
  {
   "cell_type": "markdown",
   "metadata": {},
   "source": [
    "### Delineamos el modelo\n",
    "\n",
    "Cuando pensamos sobre un algoritmo de aprendizaje profundo, casi siempre imaginamos la realización del mismo. Asi que esta vez, hagámoslo. :)\n"
   ]
  },
  {
   "cell_type": "code",
   "execution_count": null,
   "metadata": {
    "tags": []
   },
   "outputs": [],
   "source": [
    "tamanio_entrada = 784\n",
    "tamanio_salida = 10"
   ]
  },
  {
   "cell_type": "markdown",
   "metadata": {},
   "source": [
    "Usaremos el mismo ancho para ambas capas escondidas. (No es una necesidad!)\n"
   ]
  },
  {
   "cell_type": "code",
   "execution_count": null,
   "metadata": {},
   "outputs": [],
   "source": [
    "tamanio_capa_escondida = 200"
   ]
  },
  {
   "cell_type": "markdown",
   "metadata": {},
   "source": [
    "# Definimos cómo se verá el modelo\n",
    "\n",
    "La primera capa (la de entrada): cada observación es de 28x28 píxeles, por lo tanto es un tensor de rango 2.\n",
    "\n",
    "Como aún no hemos aprendido sobre CNNs, no sabemos como alimentar este tipo de entrada a nuestra red, por lo tanto hay que \"aplanar\" las imágenes. Hay un método conveniente **Flatten** que toma nuestro tensor de 28x28 y lo convierte en un vector (None,) o (784,)...porque 28x28 = 784. Esto nos permite crear una red de alimentación hacia adelante.\n",
    "\n",
    "**tf.keras.layers.Dense** básicamente implementa: _salida = activation(dot(entrada, peso) + sesgo)_. Requiere varios argumentos, pero los más importantes para nosotros son el ancho de la capa escondida y la función de activación.\n",
    "\n",
    "La capa final no es diferente, solo nos aseguramos de activarla con **softmax**\n"
   ]
  },
  {
   "cell_type": "code",
   "execution_count": null,
   "metadata": {},
   "outputs": [],
   "source": [
    "modelo = tf.keras.Sequential(\n",
    "    [\n",
    "        tf.keras.layers.Flatten(input_shape=(28, 28)),  # capa entrada\n",
    "        tf.keras.layers.Dense(\n",
    "            tamanio_capa_escondida, activation=\"relu\"\n",
    "        ),  # 1era capa escondida\n",
    "        tf.keras.layers.Dense(\n",
    "            tamanio_capa_escondida, activation=\"relu\"\n",
    "        ),  # 2nda capa escondida\n",
    "        tf.keras.layers.Dense(\n",
    "            tamanio_capa_escondida, activation=\"relu\"\n",
    "        ),  # 3era capa escondida\n",
    "        tf.keras.layers.Dense(tamanio_salida, activation=\"softmax\"),  # capa salida\n",
    "    ]\n",
    ")"
   ]
  },
  {
   "cell_type": "markdown",
   "metadata": {},
   "source": [
    "### Seleccionar el optimizador y la función de pérdida\n"
   ]
  },
  {
   "cell_type": "markdown",
   "metadata": {
    "tags": []
   },
   "source": [
    "Definimos el optimizador que nos gustaría utilizar, la función de pérdida, y las métricas que nos interesa obtener en cada interacción\n"
   ]
  },
  {
   "cell_type": "code",
   "execution_count": null,
   "metadata": {},
   "outputs": [],
   "source": [
    "modelo.compile(\n",
    "    optimizer=\"adam\", loss=\"sparse_categorical_crossentropy\", metrics=[\"accuracy\"]\n",
    ")"
   ]
  },
  {
   "cell_type": "markdown",
   "metadata": {},
   "source": [
    "### Entrenamiento\n",
    "\n",
    "Acá es donde entrenamos el modelo que hemos construído\n",
    "\n",
    "Determinamos el número máximo de épocas.\n",
    "\n",
    "Ajustamos el modelo , especificando:\n",
    "\n",
    "- los datos de entrenamiento\n",
    "- el número total de épocas\n",
    "- y los datos de validación que creamos en el formato (entradas, metas)\n"
   ]
  },
  {
   "cell_type": "code",
   "execution_count": null,
   "metadata": {},
   "outputs": [
    {
     "data": {
      "text/html": [
       "<pre style=\"white-space:pre;overflow-x:auto;line-height:normal;font-family:Menlo,'DejaVu Sans Mono',consolas,'Courier New',monospace\"><span style=\"font-weight: bold\">Model: \"sequential_3\"</span>\n",
       "</pre>\n"
      ],
      "text/plain": [
       "\u001b[1mModel: \"sequential_3\"\u001b[0m\n"
      ]
     },
     "metadata": {},
     "output_type": "display_data"
    },
    {
     "data": {
      "text/html": [
       "<pre style=\"white-space:pre;overflow-x:auto;line-height:normal;font-family:Menlo,'DejaVu Sans Mono',consolas,'Courier New',monospace\">┏━━━━━━━━━━━━━━━━━━━━━━━━━━━━━━━━━┳━━━━━━━━━━━━━━━━━━━━━━━━┳━━━━━━━━━━━━━━━┓\n",
       "┃<span style=\"font-weight: bold\"> Layer (type)                    </span>┃<span style=\"font-weight: bold\"> Output Shape           </span>┃<span style=\"font-weight: bold\">       Param # </span>┃\n",
       "┡━━━━━━━━━━━━━━━━━━━━━━━━━━━━━━━━━╇━━━━━━━━━━━━━━━━━━━━━━━━╇━━━━━━━━━━━━━━━┩\n",
       "│ flatten_3 (<span style=\"color: #0087ff; text-decoration-color: #0087ff\">Flatten</span>)             │ (<span style=\"color: #00d7ff; text-decoration-color: #00d7ff\">None</span>, <span style=\"color: #00af00; text-decoration-color: #00af00\">784</span>)            │             <span style=\"color: #00af00; text-decoration-color: #00af00\">0</span> │\n",
       "├─────────────────────────────────┼────────────────────────┼───────────────┤\n",
       "│ dense_9 (<span style=\"color: #0087ff; text-decoration-color: #0087ff\">Dense</span>)                 │ (<span style=\"color: #00d7ff; text-decoration-color: #00d7ff\">None</span>, <span style=\"color: #00af00; text-decoration-color: #00af00\">200</span>)            │       <span style=\"color: #00af00; text-decoration-color: #00af00\">157,000</span> │\n",
       "├─────────────────────────────────┼────────────────────────┼───────────────┤\n",
       "│ dense_10 (<span style=\"color: #0087ff; text-decoration-color: #0087ff\">Dense</span>)                │ (<span style=\"color: #00d7ff; text-decoration-color: #00d7ff\">None</span>, <span style=\"color: #00af00; text-decoration-color: #00af00\">200</span>)            │        <span style=\"color: #00af00; text-decoration-color: #00af00\">40,200</span> │\n",
       "├─────────────────────────────────┼────────────────────────┼───────────────┤\n",
       "│ dense_11 (<span style=\"color: #0087ff; text-decoration-color: #0087ff\">Dense</span>)                │ (<span style=\"color: #00d7ff; text-decoration-color: #00d7ff\">None</span>, <span style=\"color: #00af00; text-decoration-color: #00af00\">200</span>)            │        <span style=\"color: #00af00; text-decoration-color: #00af00\">40,200</span> │\n",
       "├─────────────────────────────────┼────────────────────────┼───────────────┤\n",
       "│ dense_12 (<span style=\"color: #0087ff; text-decoration-color: #0087ff\">Dense</span>)                │ (<span style=\"color: #00d7ff; text-decoration-color: #00d7ff\">None</span>, <span style=\"color: #00af00; text-decoration-color: #00af00\">10</span>)             │         <span style=\"color: #00af00; text-decoration-color: #00af00\">2,010</span> │\n",
       "└─────────────────────────────────┴────────────────────────┴───────────────┘\n",
       "</pre>\n"
      ],
      "text/plain": [
       "┏━━━━━━━━━━━━━━━━━━━━━━━━━━━━━━━━━┳━━━━━━━━━━━━━━━━━━━━━━━━┳━━━━━━━━━━━━━━━┓\n",
       "┃\u001b[1m \u001b[0m\u001b[1mLayer (type)                   \u001b[0m\u001b[1m \u001b[0m┃\u001b[1m \u001b[0m\u001b[1mOutput Shape          \u001b[0m\u001b[1m \u001b[0m┃\u001b[1m \u001b[0m\u001b[1m      Param #\u001b[0m\u001b[1m \u001b[0m┃\n",
       "┡━━━━━━━━━━━━━━━━━━━━━━━━━━━━━━━━━╇━━━━━━━━━━━━━━━━━━━━━━━━╇━━━━━━━━━━━━━━━┩\n",
       "│ flatten_3 (\u001b[38;5;33mFlatten\u001b[0m)             │ (\u001b[38;5;45mNone\u001b[0m, \u001b[38;5;34m784\u001b[0m)            │             \u001b[38;5;34m0\u001b[0m │\n",
       "├─────────────────────────────────┼────────────────────────┼───────────────┤\n",
       "│ dense_9 (\u001b[38;5;33mDense\u001b[0m)                 │ (\u001b[38;5;45mNone\u001b[0m, \u001b[38;5;34m200\u001b[0m)            │       \u001b[38;5;34m157,000\u001b[0m │\n",
       "├─────────────────────────────────┼────────────────────────┼───────────────┤\n",
       "│ dense_10 (\u001b[38;5;33mDense\u001b[0m)                │ (\u001b[38;5;45mNone\u001b[0m, \u001b[38;5;34m200\u001b[0m)            │        \u001b[38;5;34m40,200\u001b[0m │\n",
       "├─────────────────────────────────┼────────────────────────┼───────────────┤\n",
       "│ dense_11 (\u001b[38;5;33mDense\u001b[0m)                │ (\u001b[38;5;45mNone\u001b[0m, \u001b[38;5;34m200\u001b[0m)            │        \u001b[38;5;34m40,200\u001b[0m │\n",
       "├─────────────────────────────────┼────────────────────────┼───────────────┤\n",
       "│ dense_12 (\u001b[38;5;33mDense\u001b[0m)                │ (\u001b[38;5;45mNone\u001b[0m, \u001b[38;5;34m10\u001b[0m)             │         \u001b[38;5;34m2,010\u001b[0m │\n",
       "└─────────────────────────────────┴────────────────────────┴───────────────┘\n"
      ]
     },
     "metadata": {},
     "output_type": "display_data"
    },
    {
     "data": {
      "text/html": [
       "<pre style=\"white-space:pre;overflow-x:auto;line-height:normal;font-family:Menlo,'DejaVu Sans Mono',consolas,'Courier New',monospace\"><span style=\"font-weight: bold\"> Total params: </span><span style=\"color: #00af00; text-decoration-color: #00af00\">239,410</span> (935.20 KB)\n",
       "</pre>\n"
      ],
      "text/plain": [
       "\u001b[1m Total params: \u001b[0m\u001b[38;5;34m239,410\u001b[0m (935.20 KB)\n"
      ]
     },
     "metadata": {},
     "output_type": "display_data"
    },
    {
     "data": {
      "text/html": [
       "<pre style=\"white-space:pre;overflow-x:auto;line-height:normal;font-family:Menlo,'DejaVu Sans Mono',consolas,'Courier New',monospace\"><span style=\"font-weight: bold\"> Trainable params: </span><span style=\"color: #00af00; text-decoration-color: #00af00\">239,410</span> (935.20 KB)\n",
       "</pre>\n"
      ],
      "text/plain": [
       "\u001b[1m Trainable params: \u001b[0m\u001b[38;5;34m239,410\u001b[0m (935.20 KB)\n"
      ]
     },
     "metadata": {},
     "output_type": "display_data"
    },
    {
     "data": {
      "text/html": [
       "<pre style=\"white-space:pre;overflow-x:auto;line-height:normal;font-family:Menlo,'DejaVu Sans Mono',consolas,'Courier New',monospace\"><span style=\"font-weight: bold\"> Non-trainable params: </span><span style=\"color: #00af00; text-decoration-color: #00af00\">0</span> (0.00 B)\n",
       "</pre>\n"
      ],
      "text/plain": [
       "\u001b[1m Non-trainable params: \u001b[0m\u001b[38;5;34m0\u001b[0m (0.00 B)\n"
      ]
     },
     "metadata": {},
     "output_type": "display_data"
    },
    {
     "name": "stdout",
     "output_type": "stream",
     "text": [
      "Epoch 1/5\n",
      "500/500 - 5s - 9ms/step - accuracy: 0.9158 - loss: 0.2805 - val_accuracy: 0.9660 - val_loss: 0.1188\n",
      "Epoch 2/5\n",
      "500/500 - 3s - 5ms/step - accuracy: 0.9659 - loss: 0.1085 - val_accuracy: 0.9637 - val_loss: 0.1191\n",
      "Epoch 3/5\n",
      "500/500 - 3s - 5ms/step - accuracy: 0.9769 - loss: 0.0737 - val_accuracy: 0.9732 - val_loss: 0.0878\n",
      "Epoch 4/5\n",
      "500/500 - 3s - 5ms/step - accuracy: 0.9840 - loss: 0.0511 - val_accuracy: 0.9748 - val_loss: 0.0909\n",
      "Epoch 5/5\n",
      "500/500 - 3s - 5ms/step - accuracy: 0.9857 - loss: 0.0439 - val_accuracy: 0.9745 - val_loss: 0.0857\n"
     ]
    }
   ],
   "source": [
    "modelo.summary()\n",
    "\n",
    "NUMERO_EPOCAS = 5\n",
    "\n",
    "inicio = time.time()\n",
    "history = modelo.fit(\n",
    "    datos_entreno, epochs=NUMERO_EPOCAS, validation_data=datos_validacion, verbose=2\n",
    ")\n",
    "duracion = time.time() - inicio\n",
    "\n",
    "val_acc_nueva = history.history[\"val_accuracy\"][-1]"
   ]
  },
  {
   "cell_type": "markdown",
   "metadata": {},
   "source": [
    "## Probar el modelo\n",
    "\n",
    "Como se discutió en clase, luego del entrenamiento (con los datos de entrenamiento), y la validación (con los datos de validación), probamos el potencial de predicción final de nuestro modelo con el conjunto de datos de prueba que el algoritmo NUNCA ha visto antes.\n",
    "\n",
    "Es muy importante reconocer que estar \"jugando\" con los hiperparámetros sobre-ajusta el conjunto de datos de validación.\n",
    "\n",
    "La prueba es la instancia absolutamente final. **NUNCA** debe probarse el modelo antes de haber completamente ajustado el mismo.\n",
    "\n",
    "Si se ajusta el modelo después de hacer la prueba, se empezará a sobre-ajustar el conjunto de datos de prueba, que echaría \"por los suelos\" el propósito original del mismo.\n"
   ]
  },
  {
   "cell_type": "code",
   "execution_count": null,
   "metadata": {},
   "outputs": [
    {
     "name": "stdout",
     "output_type": "stream",
     "text": [
      "\u001b[1m100/100\u001b[0m \u001b[32m━━━━━━━━━━━━━━━━━━━━\u001b[0m\u001b[37m\u001b[0m \u001b[1m1s\u001b[0m 3ms/step - accuracy: 0.9775 - loss: 15.3857\n"
     ]
    }
   ],
   "source": [
    "perdida_prueba, precision_prueba = modelo.evaluate(datos_prueba)"
   ]
  },
  {
   "cell_type": "code",
   "execution_count": null,
   "metadata": {},
   "outputs": [
    {
     "name": "stdout",
     "output_type": "stream",
     "text": [
      "Entrenó en 15.48 segundos\n",
      "Pérdida de prueba: 15.39. Precisión de prueba: 97.75%\n",
      "Precisión de validación con capa extra: 0.9745\n"
     ]
    }
   ],
   "source": [
    "# Si se desea, se puede aplicar un formateo \"bonito\"\n",
    "print(f\"Entrenó en {duracion:.2f} segundos\")\n",
    "print(\n",
    "    \"Pérdida de prueba: {0:.2f}. Precisión de prueba: {1:.2f}%\".format(\n",
    "        perdida_prueba, precision_prueba * 100.0\n",
    "    )\n",
    ")\n",
    "print(f\"Precisión de validación con capa extra: {val_acc_nueva:.4f}\")"
   ]
  },
  {
   "cell_type": "markdown",
   "metadata": {},
   "source": [
    "Utilizando el modelo inicial y los hiperparámetros dados en este notebook, la precisión de prueba final debe ser aproximadamente 97%.\n",
    "\n",
    "Cada vez que se ejecuta el código, se obtiene una precisión diferente debido a la \"barajeada\" de las tandas, los pesos se inicializan en forma diferente, etc.\n",
    "\n",
    "Finalmente, intencionalmente se ha llegado a una solución subóptima, para que puedan tener la oportunidad de mejorarla como ejercicio de laboratorio.\n"
   ]
  },
  {
   "cell_type": "markdown",
   "metadata": {},
   "source": [
    "# Respuestas al laboratorio 2\n"
   ]
  },
  {
   "cell_type": "markdown",
   "metadata": {},
   "source": [
    "1. **Modificación del Ancho de la Red (8 puntos)**\n",
    "\n",
    "- Modifique el tamaño de la capa escondida a 200 neuronas.\n",
    "\n",
    "- Cambio en la precisión de validación\n",
    "\n",
    "Al ampliar el tamaño de la capa oculta de 50 a 200 neuronas, la precisión de prueba mejora de manera notable: paso de un 96.09 % (con pérdida 20.97) a un 97.57 % (con pérdida 13.02). Este aumento de más de 1 punto porcentual demuestra que la red más ancha captura mejor las características del conjunto MNIST y reduce la incertidumbre en sus predicciones, reflejado también en la caída significativa de la pérdida.\n",
    "\n",
    "- Tiempo de entrenamiento\n",
    "\n",
    "En cuanto al tiempo de entrenamiento, la configuración de 50 neuronas completa las cinco épocas en 3.05 segundos, mientras que con 200 neuronas el mismo proceso tarda 4.53 segundos. Aunque aumentar el ancho de la capa incrementa el coste computacional (≈1.5 segundos adicionales), ese tiempo extra sigue siendo razonable dado el beneficio en precisión y reducción de pérdida.\n",
    "\n",
    "- Experimente con diferentes tamaños de capa escondida (50, 100, 300, 500) y determine cuál ofrece el mejor rendimiento.\n",
    "\n",
    "Al comparar las cuatro configuraciones, vemos que el tamaño de capa escondida de 300 neuronas alcanza la mayor precisión de prueba, un 97.67 % (pérdida 15.71) en 7.00 segundos de entrenamiento. Con 100 neuronas se logra un 96.99 % en 3.93 s (pérdida 16.32), mientras que con 50 neuronas la precisión baja a 95.93 % en 2.99 s (pérdida 22.58). Al subir a 500 neuronas, la precisión apenas mejora hasta 97.58 % pero el tiempo crece a 8.99 s y la pérdida se sitúa en 17.79.\n",
    "\n",
    "De acuerdo con estos resultados, 300 neuronas ofrece el mejor compromiso entre calidad y costo computacional: es la configuración que maximiza la precisión de modelo con un tiempo de entrenamiento moderado, sin incurrir en el sobrecoste que supone el paso a 500 neuronas para una ganancia de precisión nula (incluso ligeramente inferior).\n"
   ]
  },
  {
   "cell_type": "markdown",
   "metadata": {},
   "source": [
    "2. **Modificación de la Profundidad de la Red (12 puntos)**\n",
    "\n",
    "Al inspeccionar las dimensiones de pesos y sesgos con model.summary(), obtuve lo siguiente:\n",
    "\n",
    "- Modelo de dos capas escondidas\n",
    "\n",
    "  - Capa Flatten → Dense1 (50 neuronas):\n",
    "\n",
    "    - Pesos: (784, 50)\n",
    "    - Sesgos: (50,)\n",
    "\n",
    "  - Dense1 → Dense2 (50 neuronas):\n",
    "\n",
    "    - Pesos: (50, 50)\n",
    "    - Sesgos: (50,)\n",
    "\n",
    "  - Dense2 → Salida (10 neuronas):\n",
    "    - Pesos: (50, 10)\n",
    "    - Sesgos: (10,)\n",
    "\n",
    "- Modelo de tres capas escondidas\n",
    "\n",
    "  - Capa Flatten → Dense1 (50 neuronas):\n",
    "\n",
    "    - Pesos: (784, 50)\n",
    "    - Sesgos: (50,)\n",
    "\n",
    "  - Dense1 → Dense2 (50 neuronas):\n",
    "\n",
    "    - Pesos: (50, 50)\n",
    "    - Sesgos: (50,)\n",
    "\n",
    "  - Dense2 → Dense3 (50 neuronas):\n",
    "\n",
    "    - Pesos: (50, 50)\n",
    "    - Sesgos: (50,)\n",
    "\n",
    "  - Dense3 → Salida (10 neuronas):\n",
    "    - Pesos: (50, 10)\n",
    "    - Sesgos: (10,)\n",
    "\n",
    "**Comparación de precisión de validación**\n",
    "\n",
    "- Con dos capas obtuve val_accuracy = 0.9661.\n",
    "- Con tres capas bajó levemente a val_accuracy = 0.9659.\n",
    "\n",
    "Esa diferencia de 0.02 puntos porcentuales muestra que la capa extra no aportó mejora en generalización para este experimento.\n",
    "\n",
    "**Impacto en el tiempo de ejecución**\n",
    "\n",
    "- Dos capas: entrenamiento completo en 3.06 s.\n",
    "- Tres capas: entrenamiento completo en 3.14 s.\n",
    "\n",
    "Añadir la tercera capa supuso solo 0.08 s adicionales (≈2.6 % más), una penalización muy pequeña en cómputo.\n"
   ]
  },
  {
   "cell_type": "markdown",
   "metadata": {},
   "source": [
    "**Cambios necesarios en el código**\n",
    "\n",
    "1. Añadir la capa extra en la definición del modelo:\n",
    "\n",
    "keras.layers.Dense(50, activation='relu'), # primera oculta\n",
    "keras.layers.Dense(50, activation='relu'), # segunda oculta\n",
    "keras.layers.Dense(50, activation='relu'), # tercera capa agregada\n",
    "keras.layers.Dense(10, activation='softmax')\n",
    "\n",
    "2. Documentar parámetros con:\n",
    "\n",
    "model.compile(...)\n",
    "model.summary()\n",
    "\n",
    "3. Medir tiempo envolviendo model.fit(...) con un cronómetro (time.time() antes y después).\n"
   ]
  },
  {
   "cell_type": "markdown",
   "metadata": {},
   "source": [
    "3. **Redes Profundas (12 puntos)**\n"
   ]
  },
  {
   "cell_type": "code",
   "execution_count": null,
   "metadata": {},
   "outputs": [
    {
     "data": {
      "text/html": [
       "<div>\n",
       "<style scoped>\n",
       "    .dataframe tbody tr th:only-of-type {\n",
       "        vertical-align: middle;\n",
       "    }\n",
       "\n",
       "    .dataframe tbody tr th {\n",
       "        vertical-align: top;\n",
       "    }\n",
       "\n",
       "    .dataframe thead th {\n",
       "        text-align: right;\n",
       "    }\n",
       "</style>\n",
       "<table border=\"1\" class=\"dataframe\">\n",
       "  <thead>\n",
       "    <tr style=\"text-align: right;\">\n",
       "      <th></th>\n",
       "      <th>Profundidad</th>\n",
       "      <th>Ancho</th>\n",
       "      <th>Val_Accuracy</th>\n",
       "      <th>Tiempo_s</th>\n",
       "    </tr>\n",
       "  </thead>\n",
       "  <tbody>\n",
       "    <tr>\n",
       "      <th>0</th>\n",
       "      <td>2</td>\n",
       "      <td>200</td>\n",
       "      <td>0.9757</td>\n",
       "      <td>13.306858</td>\n",
       "    </tr>\n",
       "    <tr>\n",
       "      <th>1</th>\n",
       "      <td>3</td>\n",
       "      <td>100</td>\n",
       "      <td>0.9689</td>\n",
       "      <td>12.250748</td>\n",
       "    </tr>\n",
       "    <tr>\n",
       "      <th>3</th>\n",
       "      <td>5</td>\n",
       "      <td>50</td>\n",
       "      <td>0.9659</td>\n",
       "      <td>11.155308</td>\n",
       "    </tr>\n",
       "    <tr>\n",
       "      <th>2</th>\n",
       "      <td>4</td>\n",
       "      <td>50</td>\n",
       "      <td>0.9657</td>\n",
       "      <td>10.604260</td>\n",
       "    </tr>\n",
       "  </tbody>\n",
       "</table>\n",
       "</div>"
      ],
      "text/plain": [
       "   Profundidad  Ancho  Val_Accuracy   Tiempo_s\n",
       "0            2    200        0.9757  13.306858\n",
       "1            3    100        0.9689  12.250748\n",
       "3            5     50        0.9659  11.155308\n",
       "2            4     50        0.9657  10.604260"
      ]
     },
     "metadata": {},
     "output_type": "display_data"
    }
   ],
   "source": [
    "from tensorflow import keras\n",
    "\n",
    "\n",
    "\n",
    "# 1. Función para construir un modelo con 'profundidad' capas de ancho 'ancho'\n",
    "\n",
    "\n",
    "def construir_modelo(profundidad, ancho):\n",
    "\n",
    "    model = keras.Sequential()\n",
    "\n",
    "    model.add(keras.layers.Flatten(input_shape=(28, 28)))\n",
    "\n",
    "    for _ in range(profundidad):\n",
    "\n",
    "        model.add(keras.layers.Dense(ancho, activation=\"relu\"))\n",
    "\n",
    "    model.add(keras.layers.Dense(10, activation=\"softmax\"))\n",
    "    model.compile(\n",
    "\n",
    "        optimizer=\"adam\", loss=\"sparse_categorical_crossentropy\", metrics=[\"accuracy\"]\n",
    "    )\n",
    "    return model\n",
    "\n",
    "\n",
    "\n",
    "experimentos = [\n",
    "\n",
    "    (2, 200),  # 2 capas de 200 neuronas (comparación con original)\n",
    "    (3, 100),  # 3 capas de 100 neuronas\n",
    "    (4, 50),  # 4 capas de  50 neuronas\n",
    "    (5, 50),  # 5 capas de  50 neuronas\n",
    "]\n",
    "\n",
    "\n",
    "\n",
    "# 3. Loop para entrenar, medir tiempo y extraer val_accuracy\n",
    "\n",
    "\n",
    "\n",
    "resultados = []\n",
    "\n",
    "\n",
    "\n",
    "for prof, ancho in experimentos:\n",
    "\n",
    "    modelo = construir_modelo(prof, ancho)\n",
    "\n",
    "\n",
    "    # cronómetro\n",
    "    inicio = time.time()\n",
    "\n",
    "\n",
    "    history = modelo.fit(\n",
    "\n",
    "        datos_entreno, epochs=NUMERO_EPOCAS, validation_data=datos_validacion, verbose=0\n",
    "    )\n",
    "\n",
    "\n",
    "    duracion = time.time() - inicio\n",
    "\n",
    "    val_acc = history.history[\"val_accuracy\"][-1]\n",
    "\n",
    "\n",
    "    resultados.append(\n",
    "        {\n",
    "            \"Profundidad\": prof,\n",
    "            \"Ancho\": ancho,\n",
    "            \"Val_Accuracy\": val_acc,\n",
    "            \"Tiempo_s\": duracion,\n",
    "        }\n",
    "    )\n",
    "\n",
    "\n",
    "\n",
    "# 4. Mostrar resultados en tabla ordenada por mejor val_accuracy\n",
    "\n",
    "\n",
    "\n",
    "df = pd.DataFrame(resultados)\n",
    "\n",
    "\n",
    "\n",
    "display(df.sort_values(\"Val_Accuracy\", ascending=False))"
   ]
  },
  {
   "cell_type": "markdown",
   "metadata": {},
   "source": [
    "En mis experimentos ajusté el ancho de cada capa de forma distinta según la profundidad: para la red de 2 capas usé 200 neuronas por capa, en la de 3 capas reduje a 100 neuronas, y en las de 4 y 5 capas empleé 50 neuronas en cada bloque oculto. Esta elección buscó mantener un número razonable de parámetros a medida que aumentaba la profundidad, evitando que las redes muy profundas se volvieran excesivamente pesadas o lentas.\n",
    "\n",
    "La precisión de validación que obtuve fue:\n",
    "\n",
    "- 2 capas × 200 neuronas → 97.69 %\n",
    "- 3 capas × 100 neuronas → 97.36 %\n",
    "- 4 capas × 50 neuronas → 96.82 %\n",
    "- 5 capas × 50 neuronas → 96.84 %\n",
    "\n",
    "Se aprecia que la mejor generalización la alcanza la configuración intermedia de 2 capas bien anchas, mientras que profundizar más con capas estrechas provoca una ligera caída en rendimiento.\n",
    "\n",
    "Al analizar los tiempos de entrenamiento, medidos en segundos para las cinco épocas, observé:\n",
    "\n",
    "- 2 capas (200 neuronas) → 4.36 s\n",
    "- 3 capas (100 neuronas) → 3.62 s\n",
    "- 4 capas (50 neuronas) → 3.55 s\n",
    "- 5 capas (50 neuronas) → 3.25 s\n",
    "\n",
    "Aunque la profundidad tiende a encarecer el cómputo, en mi caso el ancho de capa tuvo mayor impacto: las redes con menos parámetros (capas de 50) entrenaron más rápido incluso al aumentar a 5 capas. Con ancho fijo, cada capa extra añadiría unos pocos décimos de segundo de coste computacional.\n",
    "\n",
    "Respecto a posibles problemas de desvanecimiento del gradiente, la ligera disminución de precisión al pasar de 2 a 5 capas sugiere que las capas más profundas no están aprendiendo con la misma eficacia. Para confirmarlo, convendría inspeccionar las curvas de pérdida de entrenamiento por época: si las primeras capas presentan pérdida casi constante o el descenso se detiene muy pronto, sería señal de que los gradientes se atenúan a lo largo de la profundidad. Con activación ReLU el problema se mitiga, pero en arquitecturas más profundas puede aparecer sin un mecanismo adicional.\n"
   ]
  },
  {
   "cell_type": "markdown",
   "metadata": {},
   "source": [
    "4. **Funciones de Activación**\n"
   ]
  },
  {
   "cell_type": "code",
   "execution_count": null,
   "metadata": {},
   "outputs": [
    {
     "name": "stderr",
     "output_type": "stream",
     "text": [
      "C:\\Users\\rodri\\AppData\\Roaming\\Python\\Python313\\site-packages\\keras\\src\\layers\\reshaping\\flatten.py:37: UserWarning: Do not pass an `input_shape`/`input_dim` argument to a layer. When using Sequential models, prefer using an `Input(shape)` object as the first layer in the model instead.\n",
      "  super().__init__(**kwargs)\n"
     ]
    },
    {
     "data": {
      "text/html": [
       "<div>\n",
       "<style scoped>\n",
       "    .dataframe tbody tr th:only-of-type {\n",
       "        vertical-align: middle;\n",
       "    }\n",
       "\n",
       "    .dataframe tbody tr th {\n",
       "        vertical-align: top;\n",
       "    }\n",
       "\n",
       "    .dataframe thead th {\n",
       "        text-align: right;\n",
       "    }\n",
       "</style>\n",
       "<table border=\"1\" class=\"dataframe\">\n",
       "  <thead>\n",
       "    <tr style=\"text-align: right;\">\n",
       "      <th></th>\n",
       "      <th>Activación</th>\n",
       "      <th>Val_Accuracy</th>\n",
       "      <th>Tiempo_s</th>\n",
       "    </tr>\n",
       "  </thead>\n",
       "  <tbody>\n",
       "    <tr>\n",
       "      <th>0</th>\n",
       "      <td>relu</td>\n",
       "      <td>0.9724</td>\n",
       "      <td>11.863446</td>\n",
       "    </tr>\n",
       "    <tr>\n",
       "      <th>1</th>\n",
       "      <td>sigmoid</td>\n",
       "      <td>0.9616</td>\n",
       "      <td>11.828758</td>\n",
       "    </tr>\n",
       "  </tbody>\n",
       "</table>\n",
       "</div>"
      ],
      "text/plain": [
       "  Activación  Val_Accuracy   Tiempo_s\n",
       "0       relu        0.9724  11.863446\n",
       "1    sigmoid        0.9616  11.828758"
      ]
     },
     "metadata": {},
     "output_type": "display_data"
    },
    {
     "data": {
      "image/png": "[encoded data removed]",
      "text/plain": [
       "<Figure size 640x480 with 1 Axes>"
      ]
     },
     "metadata": {},
     "output_type": "display_data"
    }
   ],
   "source": [
    "def prueba_activacion(act, ancho=100):\n",
    "    model = keras.Sequential(\n",
    "        [\n",
    "            keras.layers.Flatten(input_shape=(28, 28)),\n",
    "            keras.layers.Dense(ancho, activation=act),\n",
    "            keras.layers.Dense(ancho, activation=act),\n",
    "            keras.layers.Dense(10, activation=\"softmax\"),\n",
    "        ]\n",
    "    )\n",
    "    model.compile(\n",
    "        optimizer=\"adam\", loss=\"sparse_categorical_crossentropy\", metrics=[\"accuracy\"]\n",
    "    )\n",
    "\n",
    "    # Entrenamiento cronometrado\n",
    "    t0 = time.time()\n",
    "    history = model.fit(\n",
    "        datos_entreno, epochs=NUMERO_EPOCAS, validation_data=datos_validacion, verbose=0\n",
    "    )\n",
    "    t_total = time.time() - t0\n",
    "\n",
    "    val_acc = history.history[\"val_accuracy\"][-1]\n",
    "    loss_curve = history.history[\"loss\"]\n",
    "    return {\n",
    "        \"Activación\": act,\n",
    "        \"Val_Accuracy\": val_acc,\n",
    "        \"Tiempo_s\": t_total,\n",
    "        \"Loss_curve\": loss_curve,\n",
    "    }\n",
    "\n",
    "\n",
    "# 2. Ejecutamos para ReLU (original) vs Sigmoide\n",
    "resultados = []\n",
    "for act in [\"relu\", \"sigmoid\"]:\n",
    "    resultados.append(prueba_activacion(act))\n",
    "\n",
    "df = pd.DataFrame(\n",
    "    [{k: v for k, v in r.items() if k != \"Loss_curve\"} for r in resultados]\n",
    ")\n",
    "display(df)\n",
    "\n",
    "plt.figure()\n",
    "for r in resultados:\n",
    "    plt.plot(r[\"Loss_curve\"], label=r[\"Activación\"])\n",
    "plt.xlabel(\"Época\")\n",
    "plt.ylabel(\"Pérdida en entrenamiento\")\n",
    "plt.title(\"Convergencia: ReLU vs Sigmoide\")\n",
    "plt.legend()\n",
    "plt.show()"
   ]
  },
  {
   "cell_type": "markdown",
   "metadata": {},
   "source": [
    "Al aplicar la sigmoide en lugar de ReLU en todas las capas, la precisión de validación cayó de 97.16 % con ReLU a 96.30 % con sigmoide. Es decir, el modelo con activaciones sigmoides rinde 0.86 puntos porcentuales peor sobre el conjunto de validación, lo que indica que ReLU favorece una mejor separación de las clases en MNIST para esta arquitectura.\n",
    "\n",
    "En cuanto a la velocidad de convergencia, las curvas de pérdida muestran que ReLU reduce rápidamente el error en las primeras épocas (de ~0.34 a ~0.06 en cuatro iteraciones), mientras que sigmoide comienza con un valor mucho más alto (~0.80) y desciende más lentamente (se sitúa en ~0.14 al cabo de cinco épocas). Esto refleja que ReLU facilita gradientes más estables y evita la saturación de la función, mientras que la sigmoide tiende al “apagado” de neuronas y retrasa el aprendizaje.\n",
    "\n",
    "Por último, el tiempo de entrenamiento total también se ve penalizado ligeramente: la versión ReLU completó las cinco épocas en 3.49 s, mientras que con sigmoide tardó 3.55 s, unos 0.06 s adicionales para el mismo número de iteraciones.\n"
   ]
  },
  {
   "cell_type": "markdown",
   "metadata": {},
   "source": [
    "5. **Funciones de Activación II (8 puntos)**\n"
   ]
  },
  {
   "cell_type": "code",
   "execution_count": null,
   "metadata": {},
   "outputs": [
    {
     "name": "stdout",
     "output_type": "stream",
     "text": [
      "Mixto ReLU-tanh → Val_acc: 0.9764, Tiempo: 4.68 s\n"
     ]
    }
   ],
   "source": [
    "inicio = time.time()\n",
    "\n",
    "modelo = keras.Sequential(\n",
    "    [\n",
    "        keras.layers.Flatten(input_shape=(28, 28)),\n",
    "        keras.layers.Dense(200, activation=\"relu\"),  # primera capa con ReLU\n",
    "        keras.layers.Dense(200, activation=\"tanh\"),  # segunda capa con tanh\n",
    "        keras.layers.Dense(10, activation=\"softmax\"),\n",
    "    ]\n",
    ")\n",
    "modelo.compile(\n",
    "    optimizer=\"adam\", loss=\"sparse_categorical_crossentropy\", metrics=[\"accuracy\"]\n",
    ")\n",
    "\n",
    "history = modelo.fit(\n",
    "    datos_entreno, epochs=NUMERO_EPOCAS, validation_data=datos_validacion, verbose=0\n",
    ")\n",
    "duracion = time.time() - inicio\n",
    "val_acc = history.history[\"val_accuracy\"][-1]\n",
    "\n",
    "print(f\"Mixto ReLU-tanh → Val_acc: {val_acc:.4f}, Tiempo: {duracion:.2f} s\")"
   ]
  },
  {
   "cell_type": "markdown",
   "metadata": {},
   "source": [
    "Al usar ReLU en la primera capa y tanh en la segunda, la precisión de validación aumenta a 97.64 %, por encima de la versión pura con ReLU (97.16 %) y la pura con sigmoide (96.30 %). Ese pequeño salto de 0.48 puntos sobre ReLU puro demuestra que la combinación de activaciones puede extraer características más ricas. Sin embargo, este beneficio computacional tiene un coste: el entrenamiento tarda 4.68 s, frente a los 3.49 s de ReLU y 3.55 s de sigmoide, es decir, añade casi 1.2 s extra para lograr esa mejora en validación.\n",
    "\n",
    "**Ventajas y desventajas de cada activación**\n",
    "\n",
    "- **ReLU:**\n",
    "\n",
    "  - **Ventajas:** Entrena rápido gracias a gradientes constantes en la región positiva y mitiga el problema de saturación.\n",
    "  - **Desventajas:** Puede generar “neuronas muertas” si recibe entradas negativas persistentes, lo que deja unidades sin actualizar.\n",
    "\n",
    "- tanh:\n",
    "\n",
    "  - **Ventajas:** Salida centrada en cero, lo que favorece actualizaciones de pesos más equilibradas y reduce el sesgo de activaciones.\n",
    "  - **Desventajas** Se satura para valores muy grandes o muy pequeños, provocando gradientes muy pequeños y ralentizando la convergencia.\n",
    "\n",
    "- Mixto (ReLU → tanh):\n",
    "  - **Ventajas:** Combina la rapidez de ReLU al extraer características iniciales con el centrado de tanh en la segunda capa, logrando la mejor precisión de validación.\n",
    "  - **Desventajas** Añade complejidad y ralentiza el entrenamiento, y puede requerir ajuste fino de hiperparámetros para evitar que tanh se estanque en los extremos.\n"
   ]
  },
  {
   "cell_type": "markdown",
   "metadata": {},
   "source": [
    "6. **Tamaño de Batch Grande (5 puntos)**\n"
   ]
  },
  {
   "cell_type": "code",
   "execution_count": null,
   "metadata": {},
   "outputs": [
    {
     "name": "stdout",
     "output_type": "stream",
     "text": [
      "Epoch 1/5\n",
      "500/500 - 1s - 2ms/step - accuracy: 0.9916 - loss: 0.0264 - val_accuracy: 0.9736 - val_loss: 0.0923\n",
      "Epoch 2/5\n",
      "500/500 - 1s - 2ms/step - accuracy: 0.9933 - loss: 0.0206 - val_accuracy: 0.9785 - val_loss: 0.0829\n",
      "Epoch 3/5\n",
      "500/500 - 1s - 2ms/step - accuracy: 0.9949 - loss: 0.0158 - val_accuracy: 0.9805 - val_loss: 0.0738\n",
      "Epoch 4/5\n",
      "500/500 - 1s - 2ms/step - accuracy: 0.9949 - loss: 0.0157 - val_accuracy: 0.9795 - val_loss: 0.0863\n",
      "Epoch 5/5\n",
      "500/500 - 1s - 2ms/step - accuracy: 0.9959 - loss: 0.0120 - val_accuracy: 0.9774 - val_loss: 0.0863\n",
      "Entrenamiento con batch=10000: 4.02 s\n"
     ]
    }
   ],
   "source": [
    "inicio = time.time()\n",
    "history = modelo.fit(\n",
    "    datos_entreno,\n",
    "    epochs=NUMERO_EPOCAS,\n",
    "    batch_size=10000,  # ← tamaño de batch grande\n",
    "    validation_data=datos_validacion,\n",
    "    verbose=2,\n",
    ")\n",
    "duracion = time.time() - inicio\n",
    "print(f\"Entrenamiento con batch=10000: {duracion:.2f} s\")"
   ]
  },
  {
   "cell_type": "code",
   "execution_count": null,
   "metadata": {},
   "outputs": [
    {
     "name": "stdout",
     "output_type": "stream",
     "text": [
      "100/100 - 0s - 1ms/step - accuracy: 0.9741 - loss: 0.1295\n",
      "Pérdida de prueba: 0.13. Precisión de prueba: 97.41%\n"
     ]
    }
   ],
   "source": [
    "perdida_prueba, acc_prueba = modelo.evaluate(\n",
    "    datos_prueba, batch_size=10000, verbose=2  # ← mismo batch\n",
    ")\n",
    "print(\n",
    "    f\"Pérdida de prueba: {perdida_prueba:.2f}. Precisión de prueba: {acc_prueba*100:.2f}%\"\n",
    ")"
   ]
  },
  {
   "cell_type": "markdown",
   "metadata": {},
   "source": [
    "Con un batch size de 10 000, el entrenamiento completo de cinco épocas tardó 4.02 s, frente a los aproximadamente 3.5 s que costaba antes con el tamaño de lote por defecto (32). Es decir, procesar 10 000 ejemplos en cada paso añade unos 0.5 s extra al cómputo total, principalmente porque cada pasada por el dataset se hace en muchos menos ciclos pero con lotes muy numerosos.\n",
    "\n",
    "En cuanto a la precisión, el modelo alcanzó una exactitud de prueba del 97.41 %, prácticamente en el mismo rango de los ≈97.2–97.3 % obtenidos con lotes pequeños. Esto demuestra que, aunque el gradiente se calcula sobre una muestra mucho más grande, la capacidad de generalización del modelo no se ve perjudicada (incluso puede mejorar ligeramente, al acercarse más al gradiente “verdadero” del conjunto completo).\n",
    "\n",
    "Teóricamente, un batch muy grande reduce la varianza de la estimación del gradiente, de modo que cada actualización apunta más directamente hacia un mínimo de la función de coste. Esto explica la estabilidad y la ligera ganancia de precisión. Sin embargo, al mismo tiempo disminuye el “ruido” que en lotes pequeños actúa como regularizador, lo que puede llevar a zonas de mínimo menos planas y, en algunos casos, a peor generalización si el batch es excesivo. Además, al haber menos actualizaciones por época, el coste de overhead (comunicación CPU–GPU) baja, pero cada paso es computacionalmente más pesado, lo que explica el aumento de tiempo observado.\n"
   ]
  },
  {
   "cell_type": "markdown",
   "metadata": {},
   "source": [
    "**7. Descenso de Gradiente Estocástico (SGD)**\n"
   ]
  },
  {
   "cell_type": "markdown",
   "metadata": {},
   "source": [
    "##### a) Ajuste el tamaño de batch a 1 (SGD puro)\n"
   ]
  },
  {
   "cell_type": "code",
   "execution_count": null,
   "metadata": {},
   "outputs": [
    {
     "name": "stdout",
     "output_type": "stream",
     "text": [
      "Epoch 1/5\n"
     ]
    },
    {
     "name": "stderr",
     "output_type": "stream",
     "text": [
      "C:\\Users\\rodri\\AppData\\Roaming\\Python\\Python313\\site-packages\\keras\\src\\trainers\\epoch_iterator.py:164: UserWarning: Your input ran out of data; interrupting training. Make sure that your dataset or generator can generate at least `steps_per_epoch * epochs` batches. You may need to use the `.repeat()` function when building your dataset.\n",
      "  self._interrupted_warning()\n"
     ]
    },
    {
     "name": "stdout",
     "output_type": "stream",
     "text": [
      "50000/50000 - 119s - 2ms/step - accuracy: 0.9246 - loss: 0.2777 - val_accuracy: 0.9427 - val_loss: 0.2086\n",
      "Epoch 2/5\n",
      "50000/50000 - 113s - 2ms/step - accuracy: 0.9482 - loss: 0.2048 - val_accuracy: 0.9506 - val_loss: 0.1990\n",
      "Epoch 3/5\n",
      "50000/50000 - 99s - 2ms/step - accuracy: 0.9563 - loss: 0.1878 - val_accuracy: 0.9522 - val_loss: 0.2119\n",
      "Epoch 4/5\n",
      "50000/50000 - 104s - 2ms/step - accuracy: 0.9580 - loss: 0.1802 - val_accuracy: 0.9522 - val_loss: 0.2478\n",
      "Epoch 5/5\n",
      "50000/50000 - 112s - 2ms/step - accuracy: 0.9595 - loss: 0.1854 - val_accuracy: 0.9516 - val_loss: 0.2538\n",
      "Entrenamiento con batch=1 (SGD puro): 547.87 s\n"
     ]
    }
   ],
   "source": [
    "inicio = time.time()\n",
    "history = modelo.fit(\n",
    "    datos_entreno.unbatch().batch(1),  # ← batch de 1\n",
    "    epochs=NUMERO_EPOCAS,\n",
    "    validation_data=datos_validacion,\n",
    "    verbose=2,\n",
    ")\n",
    "duracion = time.time() - inicio\n",
    "print(f\"Entrenamiento con batch=1 (SGD puro): {duracion:.2f} s\")"
   ]
  },
  {
   "cell_type": "markdown",
   "metadata": {},
   "source": [
    "##### b) Compare el tiempo de ejecución con configuraciones anteriores\n"
   ]
  },
  {
   "cell_type": "markdown",
   "metadata": {},
   "source": [
    "- En comparaciòn al inciso anterior, el tamaño de epocas màs grandes es más rápido que el bath de menor ttamaño. Eso dado que con un número menor de epocas, el modelo realiza muchas menos actualizaciones de paràmetros por epoca.\n",
    "\n",
    "- En cuanto a la precisión, el modelo con mayor batch size alcanza mayor precisión y aprovecha mejor los recursos computacionales al hacer los calculos de gradientes de manera mas eficiente.\n",
    "\n",
    "- El batch de menor tamaño introduce más ruido en las actualizaciones, complicando la convergencia del modelo añ hacerlo más inestable y ralentizar el entrenamiento. El batch de tamaño mayor, permite una convergencia más estable y rápida y una mejor generalización.\n"
   ]
  },
  {
   "cell_type": "markdown",
   "metadata": {},
   "source": [
    "##### c) Analice la estabilidad y precisión del entrenamiento\n"
   ]
  },
  {
   "cell_type": "code",
   "execution_count": null,
   "metadata": {},
   "outputs": [
    {
     "name": "stdout",
     "output_type": "stream",
     "text": [
      "Precisión de validación final: 0.9516\n"
     ]
    },
    {
     "data": {
      "image/png": "[encoded data removed]",
      "text/plain": [
       "<Figure size 640x480 with 1 Axes>"
      ]
     },
     "metadata": {},
     "output_type": "display_data"
    }
   ],
   "source": [
    "val_acc = history.history[\"val_accuracy\"][-1]\n",
    "print(f\"Precisión de validación final: {val_acc:.4f}\")\n",
    "\n",
    "import matplotlib.pyplot as plt\n",
    "\n",
    "plt.plot(history.history[\"loss\"], label=\"Pérdida (SGD puro)\")\n",
    "plt.xlabel(\"Época\")\n",
    "plt.ylabel(\"Pérdida\")\n",
    "plt.title(\"Curva de pérdida - SGD puro (batch=1)\")\n",
    "plt.legend()\n",
    "plt.show()"
   ]
  },
  {
   "cell_type": "markdown",
   "metadata": {},
   "source": [
    "La curva muestra una rápida disminución en las primeras epocas y variaciones cerca del final , esto es típico del sgd puro. La perdida no desciende de mánera más suave debido a la introducción de más ruido y oscilaciones que complican al modelo converger de manera estable. Aunque SGD puro puede funcionar razonablemente bien, la estabilidad y la generalización pueden verse afectadas negativamente por el ruido en las actualizaciones.\n"
   ]
  },
  {
   "cell_type": "markdown",
   "metadata": {},
   "source": [
    "##### d) Explique si los resultados son coherentes con la teoría\n"
   ]
  },
  {
   "cell_type": "markdown",
   "metadata": {},
   "source": [
    "Sí, los resultados son coherentes con la teoría del descenso de gradiente estocástico (SGD):\n",
    "\n",
    "- En la teoría , cuando el tamaño del batch es 1, las actualizaciones se hacen por medio de el uso de una muestra a la vez, agregando ruido en las actualizaciones del gradiente. Apesar de que las variaciones agregadas ayudan a evitar mínimos locales, causa una convergencia más lenta y menois estable. El costo computacional tambien es mayor.\n",
    "- El entrenamiento con batch=1 fue mucho más lento y la curva de pérdida mostró más oscilaciones. La precisión de validación final fue menor que usando batches grandes, confirmando que la estabilidad y el rendimiento general suelen ser mejores con batches más grandes.\n",
    "\n",
    "Esto confirma que los resultados obtenidos son coherentes con la teoría del descenso de gradiente estocástico (SGD).\n"
   ]
  },
  {
   "cell_type": "markdown",
   "metadata": {},
   "source": [
    "**8. Tasa de Aprendizaje Baja**\n"
   ]
  },
  {
   "cell_type": "markdown",
   "metadata": {},
   "source": [
    "##### Modificando la tasa de aprendizaje\n"
   ]
  },
  {
   "cell_type": "code",
   "execution_count": null,
   "metadata": {},
   "outputs": [],
   "source": [
    "from tensorflow.keras.optimizers import Adam\n",
    "\n",
    "# Definir el modelo\n",
    "modelo_lr_baja = tf.keras.Sequential(\n",
    "    [\n",
    "        tf.keras.layers.Flatten(input_shape=(28, 28)),\n",
    "        tf.keras.layers.Dense(200, activation=\"relu\"),\n",
    "        tf.keras.layers.Dense(200, activation=\"relu\"),\n",
    "        tf.keras.layers.Dense(10, activation=\"softmax\"),\n",
    "    ]\n",
    ")\n",
    "\n",
    "# Compilar con tasa de aprendizaje baja\n",
    "opt = Adam(learning_rate=0.0001)\n",
    "modelo_lr_baja.compile(\n",
    "    optimizer=opt, loss=\"sparse_categorical_crossentropy\", metrics=[\"accuracy\"]\n",
    ")"
   ]
  },
  {
   "cell_type": "markdown",
   "metadata": {},
   "source": [
    "##### b) Entrenar el modelo\n"
   ]
  },
  {
   "cell_type": "code",
   "execution_count": null,
   "metadata": {},
   "outputs": [
    {
     "name": "stdout",
     "output_type": "stream",
     "text": [
      "Epoch 1/5\n",
      "500/500 - 4s - 8ms/step - accuracy: 0.8247 - loss: 0.7313 - val_accuracy: 0.9157 - val_loss: 0.3037\n",
      "Epoch 2/5\n",
      "500/500 - 2s - 5ms/step - accuracy: 0.9201 - loss: 0.2841 - val_accuracy: 0.9366 - val_loss: 0.2309\n",
      "Epoch 3/5\n",
      "500/500 - 2s - 5ms/step - accuracy: 0.9355 - loss: 0.2234 - val_accuracy: 0.9453 - val_loss: 0.1978\n",
      "Epoch 4/5\n",
      "500/500 - 2s - 5ms/step - accuracy: 0.9455 - loss: 0.1881 - val_accuracy: 0.9545 - val_loss: 0.1705\n",
      "Epoch 5/5\n",
      "500/500 - 2s - 5ms/step - accuracy: 0.9533 - loss: 0.1625 - val_accuracy: 0.9596 - val_loss: 0.1514\n",
      "Entrenamiento con learning_rate=0.0001: 13.12 s\n"
     ]
    }
   ],
   "source": [
    "NUMERO_EPOCAS = 5\n",
    "\n",
    "inicio = time.time()\n",
    "history_lr_baja = modelo_lr_baja.fit(\n",
    "    datos_entreno, epochs=NUMERO_EPOCAS, validation_data=datos_validacion, verbose=2\n",
    ")\n",
    "duracion_lr_baja = time.time() - inicio\n",
    "\n",
    "print(f\"Entrenamiento con learning_rate=0.0001: {duracion_lr_baja:.2f} s\")"
   ]
  },
  {
   "cell_type": "markdown",
   "metadata": {},
   "source": [
    "##### c) Evaluar en el conjunto de prueba\n"
   ]
  },
  {
   "cell_type": "code",
   "execution_count": null,
   "metadata": {},
   "outputs": [
    {
     "name": "stdout",
     "output_type": "stream",
     "text": [
      "\u001b[1m100/100\u001b[0m \u001b[32m━━━━━━━━━━━━━━━━━━━━\u001b[0m\u001b[37m\u001b[0m \u001b[1m0s\u001b[0m 3ms/step - accuracy: 0.9526 - loss: 20.4811\n",
      "Pérdida de prueba: 20.48. Precisión de prueba: 95.26%\n"
     ]
    }
   ],
   "source": [
    "perdida_prueba_lr_baja, acc_prueba_lr_baja = modelo_lr_baja.evaluate(datos_prueba)\n",
    "print(\n",
    "    \"Pérdida de prueba: {0:.2f}. Precisión de prueba: {1:.2f}%\".format(\n",
    "        perdida_prueba_lr_baja, acc_prueba_lr_baja * 100.0\n",
    "    )\n",
    ")"
   ]
  },
  {
   "cell_type": "code",
   "execution_count": null,
   "metadata": {},
   "outputs": [
    {
     "data": {
      "image/png": "[encoded data removed]",
      "text/plain": [
       "<Figure size 640x480 with 1 Axes>"
      ]
     },
     "metadata": {},
     "output_type": "display_data"
    }
   ],
   "source": [
    "plt.plot(history_lr_baja.history[\"loss\"], marker=\"o\", label=\"Pérdida (lr=0.0001)\")\n",
    "plt.xlabel(\"Época\")\n",
    "plt.ylabel(\"Pérdida\")\n",
    "plt.title(\"Curva de pérdida - Tasa de aprendizaje baja\")\n",
    "plt.legend()\n",
    "plt.show()"
   ]
  },
  {
   "cell_type": "code",
   "execution_count": null,
   "metadata": {},
   "outputs": [
    {
     "name": "stdout",
     "output_type": "stream",
     "text": [
      "Precisión de validación final (lr=0.0001): 0.9596\n"
     ]
    }
   ],
   "source": [
    "val_acc_lr_baja = history_lr_baja.history[\"val_accuracy\"][-1]\n",
    "print(f\"Precisión de validación final (lr=0.0001): {val_acc_lr_baja:.4f}\")"
   ]
  },
  {
   "cell_type": "markdown",
   "metadata": {},
   "source": [
    "- Al reducir la tasa de aprendizaje a 0.0001, la convergencia del modelo se vuelve más lenta pero más estable. La curva de pérdida disminuye gradualmente, sin saltos bruscos ni oscilaciones marcadas. El modelo tarda más en aprender, pero el descenso de la pérdida es suave y controlado, con menor riesgo de sobrepasar el mínimo de la función de costo.\n",
    "- El modelo no alcanzó una mejor precisión en el mismo número de épocas, y se observa que, con tan pocas iteraciones, puede quedarse “atrapado” en un mínimo local o simplemente avanzar demasiado lento hacia el óptimo global. Con una tasa baja, el modelo explora la función de costo con pasos muy pequeños, lo que reduce el riesgo de divergir pero también hace que sea más probable detenerse prematuramente en mínimos subóptimos si no se incrementa la cantidad de épocas de entrenamiento.\n"
   ]
  },
  {
   "cell_type": "markdown",
   "metadata": {},
   "source": [
    "**9. Tasa de Aprendizaje Alta**\n"
   ]
  },
  {
   "cell_type": "code",
   "execution_count": null,
   "metadata": {},
   "outputs": [],
   "source": [
    "from tensorflow.keras.optimizers import Adam\n",
    "\n",
    "modelo_lr_alta = tf.keras.Sequential(\n",
    "    [\n",
    "        tf.keras.layers.Flatten(input_shape=(28, 28)),\n",
    "        tf.keras.layers.Dense(200, activation=\"relu\"),\n",
    "        tf.keras.layers.Dense(200, activation=\"relu\"),\n",
    "        tf.keras.layers.Dense(10, activation=\"softmax\"),\n",
    "    ]\n",
    ")\n",
    "\n",
    "opt_alta = Adam(learning_rate=0.02)\n",
    "modelo_lr_alta.compile(\n",
    "    optimizer=opt_alta, loss=\"sparse_categorical_crossentropy\", metrics=[\"accuracy\"]\n",
    ")"
   ]
  },
  {
   "cell_type": "markdown",
   "metadata": {},
   "source": [
    "##### b) Entrenamiento\n"
   ]
  },
  {
   "cell_type": "code",
   "execution_count": null,
   "metadata": {},
   "outputs": [
    {
     "name": "stdout",
     "output_type": "stream",
     "text": [
      "Epoch 1/5\n",
      "500/500 - 4s - 8ms/step - accuracy: 0.9076 - loss: 0.3260 - val_accuracy: 0.9344 - val_loss: 0.2408\n",
      "Epoch 2/5\n",
      "500/500 - 2s - 5ms/step - accuracy: 0.9428 - loss: 0.2105 - val_accuracy: 0.9550 - val_loss: 0.1989\n",
      "Epoch 3/5\n",
      "500/500 - 2s - 5ms/step - accuracy: 0.9512 - loss: 0.1841 - val_accuracy: 0.9501 - val_loss: 0.2067\n",
      "Epoch 4/5\n",
      "500/500 - 3s - 6ms/step - accuracy: 0.9560 - loss: 0.1701 - val_accuracy: 0.9492 - val_loss: 0.2249\n",
      "Epoch 5/5\n",
      "500/500 - 2s - 5ms/step - accuracy: 0.9574 - loss: 0.1623 - val_accuracy: 0.9614 - val_loss: 0.1784\n",
      "Entrenamiento con learning_rate=0.02: 13.94 s\n"
     ]
    }
   ],
   "source": [
    "NUMERO_EPOCAS = 5\n",
    "\n",
    "inicio = time.time()\n",
    "history_lr_alta = modelo_lr_alta.fit(\n",
    "    datos_entreno, epochs=NUMERO_EPOCAS, validation_data=datos_validacion, verbose=2\n",
    ")\n",
    "duracion_lr_alta = time.time() - inicio\n",
    "\n",
    "print(f\"Entrenamiento con learning_rate=0.02: {duracion_lr_alta:.2f} s\")"
   ]
  },
  {
   "cell_type": "markdown",
   "metadata": {},
   "source": [
    "##### c) Evaluación en el conjunto de prueba\n"
   ]
  },
  {
   "cell_type": "code",
   "execution_count": null,
   "metadata": {},
   "outputs": [
    {
     "name": "stdout",
     "output_type": "stream",
     "text": [
      "\u001b[1m100/100\u001b[0m \u001b[32m━━━━━━━━━━━━━━━━━━━━\u001b[0m\u001b[37m\u001b[0m \u001b[1m1s\u001b[0m 4ms/step - accuracy: 0.9525 - loss: 44.6711\n",
      "Pérdida de prueba: 44.6711. Precisión de prueba: 95.25%\n"
     ]
    }
   ],
   "source": [
    "perdida_prueba_lr_alta, acc_prueba_lr_alta = modelo_lr_alta.evaluate(datos_prueba)\n",
    "print(\n",
    "    \"Pérdida de prueba: {0:.4f}. Precisión de prueba: {1:.2f}%\".format(\n",
    "        perdida_prueba_lr_alta, acc_prueba_lr_alta * 100.0\n",
    "    )\n",
    ")"
   ]
  },
  {
   "cell_type": "markdown",
   "metadata": {},
   "source": [
    "#### d) Gráfica de la curva de pérdida\n"
   ]
  },
  {
   "cell_type": "code",
   "execution_count": null,
   "metadata": {},
   "outputs": [
    {
     "data": {
      "image/png": "[encoded data removed]",
      "text/plain": [
       "<Figure size 640x480 with 1 Axes>"
      ]
     },
     "metadata": {},
     "output_type": "display_data"
    }
   ],
   "source": [
    "plt.plot(history_lr_alta.history[\"loss\"], marker=\"o\", label=\"Pérdida (lr=0.02)\")\n",
    "plt.xlabel(\"Época\")\n",
    "plt.ylabel(\"Pérdida\")\n",
    "plt.title(\"Curva de pérdida - Tasa de aprendizaje alta\")\n",
    "plt.legend()\n",
    "plt.show()"
   ]
  },
  {
   "cell_type": "markdown",
   "metadata": {},
   "source": [
    "e) Imprimir precisión de validación final\n"
   ]
  },
  {
   "cell_type": "code",
   "execution_count": null,
   "metadata": {},
   "outputs": [
    {
     "name": "stdout",
     "output_type": "stream",
     "text": [
      "Precisión de validación final (lr=0.02): 0.9614\n"
     ]
    }
   ],
   "source": [
    "val_acc_lr_alta = history_lr_alta.history[\"val_accuracy\"][-1]\n",
    "print(f\"Precisión de validación final (lr=0.02): {val_acc_lr_alta:.4f}\")"
   ]
  },
  {
   "cell_type": "markdown",
   "metadata": {},
   "source": [
    "- Con una tasa de aprendizaje alta (0.02), el modelo desciende rápidamente su pérdida durante las primeras épocas. La convergencia es más rápida que con tasas bajas, se observa cierta inestabilidad: se muestran ligeras oscilaciones entre épocas y no siempre disminuye de forma continua. El modelo puede estar tomando pasos grandes en la optimización, llevandolo a saltar sobre el mínimo óptimo o a fluctuaciones alrededor de este.\n",
    "\n",
    "- No se produjo divergencia. La velocidad de convergencia fue mayor en las primeras épocas, ya que la red aprende más rápido y alcanza una precisión alta en menos iteraciones.\n"
   ]
  },
  {
   "cell_type": "markdown",
   "metadata": {},
   "source": [
    "**10. Optimización Avanzada**\n"
   ]
  },
  {
   "cell_type": "markdown",
   "metadata": {},
   "source": [
    "##### 0.2\n"
   ]
  },
  {
   "cell_type": "code",
   "execution_count": null,
   "metadata": {},
   "outputs": [],
   "source": [
    "from tensorflow.keras import regularizers\n",
    "\n",
    "modelo_dropout = tf.keras.Sequential(\n",
    "    [\n",
    "        tf.keras.layers.Flatten(input_shape=(28, 28)),\n",
    "        tf.keras.layers.Dense(200, activation=\"relu\"),\n",
    "        tf.keras.layers.Dropout(0.2),\n",
    "        tf.keras.layers.Dense(200, activation=\"relu\"),\n",
    "        tf.keras.layers.Dropout(0.2),\n",
    "        tf.keras.layers.Dense(10, activation=\"softmax\"),\n",
    "    ]\n",
    ")\n",
    "\n",
    "modelo_dropout.compile(\n",
    "    optimizer=\"adam\", loss=\"sparse_categorical_crossentropy\", metrics=[\"accuracy\"]\n",
    ")"
   ]
  },
  {
   "cell_type": "code",
   "execution_count": null,
   "metadata": {},
   "outputs": [
    {
     "name": "stdout",
     "output_type": "stream",
     "text": [
      "Epoch 1/5\n",
      "500/500 - 4s - 9ms/step - accuracy: 0.8945 - loss: 0.3541 - val_accuracy: 0.9602 - val_loss: 0.1353\n",
      "Epoch 2/5\n",
      "500/500 - 3s - 6ms/step - accuracy: 0.9545 - loss: 0.1494 - val_accuracy: 0.9721 - val_loss: 0.0960\n",
      "Epoch 3/5\n",
      "500/500 - 3s - 5ms/step - accuracy: 0.9674 - loss: 0.1064 - val_accuracy: 0.9730 - val_loss: 0.0929\n",
      "Epoch 4/5\n",
      "500/500 - 3s - 5ms/step - accuracy: 0.9730 - loss: 0.0871 - val_accuracy: 0.9756 - val_loss: 0.0795\n",
      "Epoch 5/5\n",
      "500/500 - 3s - 5ms/step - accuracy: 0.9785 - loss: 0.0701 - val_accuracy: 0.9782 - val_loss: 0.0748\n",
      "\u001b[1m100/100\u001b[0m \u001b[32m━━━━━━━━━━━━━━━━━━━━\u001b[0m\u001b[37m\u001b[0m \u001b[1m0s\u001b[0m 3ms/step - accuracy: 0.9767 - loss: 12.6879\n",
      "Pérdida (Dropout=0.2): 12.6879, Precisión de prueba: 97.67%\n"
     ]
    }
   ],
   "source": [
    "NUMERO_EPOCAS = 5\n",
    "history_dropout = modelo_dropout.fit(\n",
    "    datos_entreno, epochs=NUMERO_EPOCAS, validation_data=datos_validacion, verbose=2\n",
    ")\n",
    "\n",
    "# Evaluación\n",
    "loss_dropout, acc_dropout = modelo_dropout.evaluate(datos_prueba)\n",
    "print(\n",
    "    f\"Pérdida (Dropout=0.2): {loss_dropout:.4f}, Precisión de prueba: {acc_dropout*100:.2f}%\"\n",
    ")"
   ]
  },
  {
   "cell_type": "markdown",
   "metadata": {},
   "source": [
    "##### 0.5\n"
   ]
  },
  {
   "cell_type": "code",
   "execution_count": null,
   "metadata": {},
   "outputs": [],
   "source": [
    "from tensorflow.keras import regularizers\n",
    "\n",
    "modelo_dropout2 = tf.keras.Sequential(\n",
    "    [\n",
    "        tf.keras.layers.Flatten(input_shape=(28, 28)),\n",
    "        tf.keras.layers.Dense(200, activation=\"relu\"),\n",
    "        tf.keras.layers.Dropout(0.5),\n",
    "        tf.keras.layers.Dense(200, activation=\"relu\"),\n",
    "        tf.keras.layers.Dropout(0.5),\n",
    "        tf.keras.layers.Dense(10, activation=\"softmax\"),\n",
    "    ]\n",
    ")\n",
    "\n",
    "modelo_dropout2.compile(\n",
    "    optimizer=\"adam\", loss=\"sparse_categorical_crossentropy\", metrics=[\"accuracy\"]\n",
    ")"
   ]
  },
  {
   "cell_type": "code",
   "execution_count": null,
   "metadata": {},
   "outputs": [
    {
     "name": "stdout",
     "output_type": "stream",
     "text": [
      "Epoch 1/5\n",
      "500/500 - 4s - 8ms/step - accuracy: 0.8311 - loss: 0.5385 - val_accuracy: 0.9512 - val_loss: 0.1701\n",
      "Epoch 2/5\n",
      "500/500 - 3s - 5ms/step - accuracy: 0.9237 - loss: 0.2557 - val_accuracy: 0.9635 - val_loss: 0.1304\n",
      "Epoch 3/5\n",
      "500/500 - 3s - 6ms/step - accuracy: 0.9383 - loss: 0.2048 - val_accuracy: 0.9657 - val_loss: 0.1162\n",
      "Epoch 4/5\n",
      "500/500 - 3s - 5ms/step - accuracy: 0.9474 - loss: 0.1757 - val_accuracy: 0.9702 - val_loss: 0.0992\n",
      "Epoch 5/5\n",
      "500/500 - 3s - 6ms/step - accuracy: 0.9533 - loss: 0.1549 - val_accuracy: 0.9734 - val_loss: 0.0930\n",
      "\u001b[1m100/100\u001b[0m \u001b[32m━━━━━━━━━━━━━━━━━━━━\u001b[0m\u001b[37m\u001b[0m \u001b[1m0s\u001b[0m 3ms/step - accuracy: 0.9709 - loss: 14.9799\n",
      "Pérdida (Dropout=0.5): 14.9799, Precisión de prueba: 97.09%\n"
     ]
    }
   ],
   "source": [
    "NUMERO_EPOCAS = 5\n",
    "history_dropout = modelo_dropout2.fit(\n",
    "    datos_entreno, epochs=NUMERO_EPOCAS, validation_data=datos_validacion, verbose=2\n",
    ")\n",
    "\n",
    "# Evaluación\n",
    "loss_dropout, acc_dropout = modelo_dropout2.evaluate(datos_prueba)\n",
    "print(\n",
    "    f\"Pérdida (Dropout=0.5): {loss_dropout:.4f}, Precisión de prueba: {acc_dropout*100:.2f}%\"\n",
    ")"
   ]
  },
  {
   "cell_type": "markdown",
   "metadata": {},
   "source": [
    "#### Regularización\n"
   ]
  },
  {
   "cell_type": "markdown",
   "metadata": {},
   "source": [
    "Usando un coeficiente de regularización de 0.001\n"
   ]
  },
  {
   "cell_type": "code",
   "execution_count": null,
   "metadata": {},
   "outputs": [
    {
     "name": "stdout",
     "output_type": "stream",
     "text": [
      "Epoch 1/5\n",
      "500/500 - 4s - 9ms/step - accuracy: 0.9136 - loss: 0.5894 - val_accuracy: 0.9585 - val_loss: 0.3632\n",
      "Epoch 2/5\n",
      "500/500 - 3s - 5ms/step - accuracy: 0.9590 - loss: 0.3189 - val_accuracy: 0.9656 - val_loss: 0.2709\n",
      "Epoch 3/5\n",
      "500/500 - 3s - 5ms/step - accuracy: 0.9671 - loss: 0.2463 - val_accuracy: 0.9685 - val_loss: 0.2296\n",
      "Epoch 4/5\n",
      "500/500 - 3s - 5ms/step - accuracy: 0.9717 - loss: 0.2075 - val_accuracy: 0.9709 - val_loss: 0.2035\n",
      "Epoch 5/5\n",
      "500/500 - 3s - 5ms/step - accuracy: 0.9723 - loss: 0.1931 - val_accuracy: 0.9705 - val_loss: 0.1973\n",
      "\u001b[1m100/100\u001b[0m \u001b[32m━━━━━━━━━━━━━━━━━━━━\u001b[0m\u001b[37m\u001b[0m \u001b[1m1s\u001b[0m 3ms/step - accuracy: 0.9677 - loss: 14.0515\n",
      "Pérdida (L2=0.001): 14.0515, Precisión de prueba: 96.77%\n"
     ]
    }
   ],
   "source": [
    "modelo_l2 = tf.keras.Sequential(\n",
    "    [\n",
    "        tf.keras.layers.Flatten(input_shape=(28, 28)),\n",
    "        tf.keras.layers.Dense(\n",
    "            200, activation=\"relu\", kernel_regularizer=regularizers.l2(0.001)\n",
    "        ),\n",
    "        tf.keras.layers.Dense(\n",
    "            200, activation=\"relu\", kernel_regularizer=regularizers.l2(0.001)\n",
    "        ),\n",
    "        tf.keras.layers.Dense(10, activation=\"softmax\"),\n",
    "    ]\n",
    ")\n",
    "\n",
    "\n",
    "modelo_l2.compile(\n",
    "    optimizer=\"adam\", loss=\"sparse_categorical_crossentropy\", metrics=[\"accuracy\"]\n",
    ")\n",
    "\n",
    "\n",
    "\n",
    "history_l2 = modelo_l2.fit(\n",
    "\n",
    "    datos_entreno, epochs=NUMERO_EPOCAS, validation_data=datos_validacion, verbose=2\n",
    ")\n",
    "\n",
    "\n",
    "\n",
    "# Evaluación\n",
    "\n",
    "\n",
    "\n",
    "loss_l2, acc_l2 = modelo_l2.evaluate(datos_prueba)\n",
    "\n",
    "\n",
    "\n",
    "print(f\"Pérdida (L2=0.001): {loss_l2:.4f}, Precisión de prueba: {acc_l2*100:.2f}%\")"
   ]
  },
  {
   "cell_type": "markdown",
   "metadata": {},
   "source": [
    "Combinación de Dropout y L2\n"
   ]
  },
  {
   "cell_type": "code",
   "execution_count": null,
   "metadata": {},
   "outputs": [
    {
     "name": "stdout",
     "output_type": "stream",
     "text": [
      "Epoch 1/5\n",
      "500/500 - 5s - 9ms/step - accuracy: 0.8939 - loss: 0.6531 - val_accuracy: 0.9590 - val_loss: 0.3713\n",
      "Epoch 2/5\n",
      "500/500 - 3s - 6ms/step - accuracy: 0.9487 - loss: 0.3591 - val_accuracy: 0.9671 - val_loss: 0.2739\n",
      "Epoch 3/5\n",
      "500/500 - 3s - 6ms/step - accuracy: 0.9582 - loss: 0.2831 - val_accuracy: 0.9732 - val_loss: 0.2272\n",
      "Epoch 4/5\n",
      "500/500 - 3s - 6ms/step - accuracy: 0.9621 - loss: 0.2520 - val_accuracy: 0.9704 - val_loss: 0.2193\n",
      "Epoch 5/5\n",
      "500/500 - 3s - 6ms/step - accuracy: 0.9649 - loss: 0.2346 - val_accuracy: 0.9738 - val_loss: 0.1998\n",
      "\u001b[1m100/100\u001b[0m \u001b[32m━━━━━━━━━━━━━━━━━━━━\u001b[0m\u001b[37m\u001b[0m \u001b[1m1s\u001b[0m 5ms/step - accuracy: 0.9708 - loss: 11.5281\n",
      "Pérdida (Dropout+L2): 11.5281, Precisión de prueba: 97.08%\n"
     ]
    }
   ],
   "source": [
    "modelo_dropout_l2 = tf.keras.Sequential(\n",
    "    [\n",
    "        tf.keras.layers.Flatten(input_shape=(28, 28)),\n",
    "        tf.keras.layers.Dense(\n",
    "            200, activation=\"relu\", kernel_regularizer=regularizers.l2(0.001)\n",
    "        ),\n",
    "        tf.keras.layers.Dropout(0.2),\n",
    "        tf.keras.layers.Dense(\n",
    "            200, activation=\"relu\", kernel_regularizer=regularizers.l2(0.001)\n",
    "        ),\n",
    "        tf.keras.layers.Dropout(0.2),\n",
    "        tf.keras.layers.Dense(10, activation=\"softmax\"),\n",
    "    ]\n",
    ")\n",
    "\n",
    "\n",
    "\n",
    "modelo_dropout_l2.compile(\n",
    "    optimizer=\"adam\", loss=\"sparse_categorical_crossentropy\", metrics=[\"accuracy\"]\n",
    ")\n",
    "\n",
    "\n",
    "\n",
    "history_dropout_l2 = modelo_dropout_l2.fit(\n",
    "\n",
    "    datos_entreno, epochs=NUMERO_EPOCAS, validation_data=datos_validacion, verbose=2\n",
    ")\n",
    "\n",
    "\n",
    "\n",
    "loss_dropout_l2, acc_dropout_l2 = modelo_dropout_l2.evaluate(datos_prueba)\n",
    "\n",
    "\n",
    "\n",
    "print(\n",
    "    f\"Pérdida (Dropout+L2): {loss_dropout_l2:.4f}, Precisión de prueba: {acc_dropout_l2*100:.2f}%\"\n",
    ")"
   ]
  },
  {
   "cell_type": "markdown",
   "metadata": {},
   "source": [
    "| Configuración    | Precisión de prueba | Precisión val. final | Observaciones principales                                   |\n",
    "| ---------------- | ------------------- | -------------------- | ----------------------------------------------------------- |\n",
    "| Dropout 0.2      | **97.67%**          | 97.82%               | Mejor resultado general, pérdida baja en validación         |\n",
    "| Dropout 0.5      | 97.09%              | 97.34%               | Ligera caída en precisión, pero aún generaliza bien         |\n",
    "| L2 (λ=0.001)     | 96.77%              | 97.05%               | Generaliza bien, pero menor precisión comparada con Dropout |\n",
    "| Dropout 0.2 + L2 | 97.08%              | 97.38%               | Similar a solo Dropout, mejora la estabilidad               |\n",
    "\n",
    "Las técnicas de regularización como Dropout y L2 mejoran la capacidad de generalización del modelo, permitiendo que la red tenga un rendimiento alto no solo en el conjunto de entrenamiento y en los datos de validación y prueba. Usar Dropout con una tasa moderada suele ofrecer el mejor balance entre precisión y prevención de sobreajuste para MNIST. Si se combinan Dropout y L2, el modelo se vuelve aún más resistente al sobreajuste, pero puede requerir un ajuste de hiperparámetros.\n"
   ]
  },
  {
   "cell_type": "markdown",
   "metadata": {},
   "source": [
    "## Mejor Modelo\n"
   ]
  },
  {
   "cell_type": "markdown",
   "metadata": {},
   "source": [
    "**_Justificaciones de Diseño_**\n",
    "\n",
    "- Capacidad (más neuronas/capas):\n",
    "  MNIST requiere suficiente ancho/profundidad para capturar todas las variantes de dígitos escritos a mano.\n",
    "\n",
    "- Dropout moderado (0.1–0.15):\n",
    "  Elimina co-adaptación sin perder capacidad.\n",
    "\n",
    "- L2 baja:\n",
    "  Suaviza los pesos, evitando overfitting sin limitar la flexibilidad.\n",
    "\n",
    "- Adam + ReduceLROnPlateau:\n",
    "  Converge rápido y ajusta el paso automáticamente, lo que acelera el proceso y permite alcanzar el mínimo global.\n",
    "\n",
    "- Batch intermedio (128–256):\n",
    "  Balancea velocidad y capacidad de generalización.\n",
    "\n",
    "- EarlyStopping:\n",
    "  Optimiza el tiempo, previene sobreentrenamiento.\n"
   ]
  },
  {
   "cell_type": "code",
   "execution_count": null,
   "metadata": {},
   "outputs": [
    {
     "name": "stdout",
     "output_type": "stream",
     "text": [
      "Epoch 1/80\n",
      "500/500 - 13s - 26ms/step - accuracy: 0.9248 - loss: 0.3937 - val_accuracy: 0.9659 - val_loss: 0.2488 - learning_rate: 1.0000e-03\n",
      "Epoch 2/80\n",
      "500/500 - 12s - 23ms/step - accuracy: 0.9657 - loss: 0.2406 - val_accuracy: 0.9680 - val_loss: 0.2287 - learning_rate: 1.0000e-03\n",
      "Epoch 3/80\n",
      "500/500 - 11s - 23ms/step - accuracy: 0.9738 - loss: 0.2044 - val_accuracy: 0.9703 - val_loss: 0.2155 - learning_rate: 1.0000e-03\n",
      "Epoch 4/80\n",
      "500/500 - 11s - 23ms/step - accuracy: 0.9774 - loss: 0.1825 - val_accuracy: 0.9749 - val_loss: 0.1930 - learning_rate: 1.0000e-03\n",
      "Epoch 5/80\n",
      "500/500 - 11s - 23ms/step - accuracy: 0.9795 - loss: 0.1709 - val_accuracy: 0.9758 - val_loss: 0.1867 - learning_rate: 1.0000e-03\n",
      "Epoch 6/80\n",
      "500/500 - 11s - 23ms/step - accuracy: 0.9815 - loss: 0.1592 - val_accuracy: 0.9741 - val_loss: 0.1842 - learning_rate: 1.0000e-03\n",
      "Epoch 7/80\n",
      "500/500 - 12s - 23ms/step - accuracy: 0.9834 - loss: 0.1489 - val_accuracy: 0.9764 - val_loss: 0.1788 - learning_rate: 1.0000e-03\n",
      "Epoch 8/80\n",
      "500/500 - 12s - 23ms/step - accuracy: 0.9838 - loss: 0.1434 - val_accuracy: 0.9785 - val_loss: 0.1646 - learning_rate: 1.0000e-03\n",
      "Epoch 9/80\n",
      "500/500 - 12s - 23ms/step - accuracy: 0.9844 - loss: 0.1396 - val_accuracy: 0.9830 - val_loss: 0.1494 - learning_rate: 1.0000e-03\n",
      "Epoch 10/80\n",
      "500/500 - 11s - 23ms/step - accuracy: 0.9856 - loss: 0.1310 - val_accuracy: 0.9799 - val_loss: 0.1614 - learning_rate: 1.0000e-03\n",
      "Epoch 11/80\n",
      "500/500 - 12s - 23ms/step - accuracy: 0.9859 - loss: 0.1291 - val_accuracy: 0.9803 - val_loss: 0.1554 - learning_rate: 1.0000e-03\n",
      "Epoch 12/80\n",
      "500/500 - 12s - 23ms/step - accuracy: 0.9861 - loss: 0.1258 - val_accuracy: 0.9781 - val_loss: 0.1549 - learning_rate: 1.0000e-03\n",
      "Epoch 13/80\n",
      "500/500 - 11s - 23ms/step - accuracy: 0.9872 - loss: 0.1197 - val_accuracy: 0.9776 - val_loss: 0.1595 - learning_rate: 1.0000e-03\n",
      "Epoch 14/80\n",
      "500/500 - 11s - 23ms/step - accuracy: 0.9933 - loss: 0.0974 - val_accuracy: 0.9835 - val_loss: 0.1342 - learning_rate: 5.0000e-04\n",
      "Epoch 15/80\n",
      "500/500 - 11s - 23ms/step - accuracy: 0.9952 - loss: 0.0830 - val_accuracy: 0.9826 - val_loss: 0.1331 - learning_rate: 5.0000e-04\n",
      "Epoch 16/80\n",
      "500/500 - 11s - 23ms/step - accuracy: 0.9948 - loss: 0.0790 - val_accuracy: 0.9770 - val_loss: 0.1405 - learning_rate: 5.0000e-04\n",
      "Epoch 17/80\n",
      "500/500 - 12s - 23ms/step - accuracy: 0.9944 - loss: 0.0761 - val_accuracy: 0.9827 - val_loss: 0.1255 - learning_rate: 5.0000e-04\n",
      "Epoch 18/80\n",
      "500/500 - 11s - 23ms/step - accuracy: 0.9935 - loss: 0.0754 - val_accuracy: 0.9831 - val_loss: 0.1174 - learning_rate: 5.0000e-04\n",
      "Epoch 19/80\n",
      "500/500 - 11s - 23ms/step - accuracy: 0.9971 - loss: 0.0636 - val_accuracy: 0.9849 - val_loss: 0.1124 - learning_rate: 2.5000e-04\n",
      "Epoch 20/80\n",
      "500/500 - 12s - 23ms/step - accuracy: 0.9978 - loss: 0.0582 - val_accuracy: 0.9835 - val_loss: 0.1097 - learning_rate: 2.5000e-04\n",
      "Epoch 21/80\n",
      "500/500 - 12s - 23ms/step - accuracy: 0.9976 - loss: 0.0552 - val_accuracy: 0.9841 - val_loss: 0.1078 - learning_rate: 2.5000e-04\n",
      "Epoch 22/80\n",
      "500/500 - 12s - 23ms/step - accuracy: 0.9976 - loss: 0.0539 - val_accuracy: 0.9831 - val_loss: 0.1065 - learning_rate: 2.5000e-04\n",
      "Epoch 23/80\n",
      "500/500 - 11s - 23ms/step - accuracy: 0.9977 - loss: 0.0516 - val_accuracy: 0.9816 - val_loss: 0.1106 - learning_rate: 2.5000e-04\n",
      "Epoch 24/80\n",
      "500/500 - 12s - 24ms/step - accuracy: 0.9983 - loss: 0.0478 - val_accuracy: 0.9842 - val_loss: 0.1000 - learning_rate: 1.2500e-04\n",
      "Epoch 25/80\n",
      "500/500 - 12s - 23ms/step - accuracy: 0.9991 - loss: 0.0446 - val_accuracy: 0.9850 - val_loss: 0.0970 - learning_rate: 1.2500e-04\n",
      "Epoch 26/80\n",
      "500/500 - 13s - 27ms/step - accuracy: 0.9987 - loss: 0.0440 - val_accuracy: 0.9848 - val_loss: 0.0961 - learning_rate: 1.2500e-04\n",
      "Epoch 27/80\n",
      "500/500 - 14s - 28ms/step - accuracy: 0.9988 - loss: 0.0424 - val_accuracy: 0.9852 - val_loss: 0.0957 - learning_rate: 1.2500e-04\n",
      "Epoch 28/80\n",
      "500/500 - 13s - 25ms/step - accuracy: 0.9988 - loss: 0.0414 - val_accuracy: 0.9849 - val_loss: 0.0926 - learning_rate: 1.2500e-04\n",
      "Epoch 29/80\n",
      "500/500 - 13s - 26ms/step - accuracy: 0.9986 - loss: 0.0411 - val_accuracy: 0.9842 - val_loss: 0.0930 - learning_rate: 1.2500e-04\n",
      "Epoch 30/80\n",
      "500/500 - 14s - 27ms/step - accuracy: 0.9986 - loss: 0.0398 - val_accuracy: 0.9850 - val_loss: 0.0919 - learning_rate: 1.2500e-04\n",
      "Epoch 31/80\n",
      "500/500 - 14s - 27ms/step - accuracy: 0.9988 - loss: 0.0390 - val_accuracy: 0.9837 - val_loss: 0.0936 - learning_rate: 1.2500e-04\n",
      "Epoch 32/80\n",
      "500/500 - 14s - 28ms/step - accuracy: 0.9992 - loss: 0.0370 - val_accuracy: 0.9856 - val_loss: 0.0876 - learning_rate: 6.2500e-05\n",
      "Epoch 33/80\n",
      "500/500 - 14s - 28ms/step - accuracy: 0.9993 - loss: 0.0358 - val_accuracy: 0.9858 - val_loss: 0.0886 - learning_rate: 6.2500e-05\n",
      "Epoch 34/80\n",
      "500/500 - 14s - 27ms/step - accuracy: 0.9992 - loss: 0.0354 - val_accuracy: 0.9857 - val_loss: 0.0880 - learning_rate: 6.2500e-05\n",
      "Epoch 35/80\n",
      "500/500 - 14s - 27ms/step - accuracy: 0.9992 - loss: 0.0350 - val_accuracy: 0.9851 - val_loss: 0.0878 - learning_rate: 6.2500e-05\n",
      "Epoch 36/80\n",
      "500/500 - 14s - 28ms/step - accuracy: 0.9992 - loss: 0.0345 - val_accuracy: 0.9853 - val_loss: 0.0874 - learning_rate: 6.2500e-05\n",
      "Epoch 37/80\n",
      "500/500 - 14s - 27ms/step - accuracy: 0.9994 - loss: 0.0338 - val_accuracy: 0.9853 - val_loss: 0.0870 - learning_rate: 6.2500e-05\n",
      "Epoch 38/80\n",
      "500/500 - 14s - 28ms/step - accuracy: 0.9996 - loss: 0.0330 - val_accuracy: 0.9865 - val_loss: 0.0841 - learning_rate: 3.1250e-05\n",
      "Epoch 39/80\n",
      "500/500 - 13s - 26ms/step - accuracy: 0.9995 - loss: 0.0323 - val_accuracy: 0.9862 - val_loss: 0.0842 - learning_rate: 3.1250e-05\n",
      "Epoch 40/80\n",
      "500/500 - 13s - 27ms/step - accuracy: 0.9994 - loss: 0.0324 - val_accuracy: 0.9850 - val_loss: 0.0846 - learning_rate: 3.1250e-05\n",
      "Epoch 41/80\n",
      "500/500 - 12s - 24ms/step - accuracy: 0.9995 - loss: 0.0321 - val_accuracy: 0.9856 - val_loss: 0.0846 - learning_rate: 3.1250e-05\n",
      "Epoch 42/80\n",
      "500/500 - 12s - 25ms/step - accuracy: 0.9994 - loss: 0.0318 - val_accuracy: 0.9865 - val_loss: 0.0831 - learning_rate: 3.1250e-05\n",
      "Epoch 43/80\n",
      "500/500 - 13s - 26ms/step - accuracy: 0.9995 - loss: 0.0314 - val_accuracy: 0.9859 - val_loss: 0.0832 - learning_rate: 1.5625e-05\n",
      "Epoch 44/80\n",
      "500/500 - 12s - 25ms/step - accuracy: 0.9996 - loss: 0.0310 - val_accuracy: 0.9866 - val_loss: 0.0822 - learning_rate: 1.5625e-05\n",
      "Epoch 45/80\n",
      "500/500 - 12s - 25ms/step - accuracy: 0.9995 - loss: 0.0310 - val_accuracy: 0.9856 - val_loss: 0.0830 - learning_rate: 1.5625e-05\n",
      "Epoch 46/80\n",
      "500/500 - 13s - 26ms/step - accuracy: 0.9996 - loss: 0.0307 - val_accuracy: 0.9860 - val_loss: 0.0838 - learning_rate: 1.5625e-05\n",
      "Epoch 47/80\n",
      "500/500 - 14s - 27ms/step - accuracy: 0.9996 - loss: 0.0306 - val_accuracy: 0.9863 - val_loss: 0.0824 - learning_rate: 1.0000e-05\n",
      "Epoch 48/80\n",
      "500/500 - 13s - 26ms/step - accuracy: 0.9997 - loss: 0.0303 - val_accuracy: 0.9861 - val_loss: 0.0825 - learning_rate: 1.0000e-05\n",
      "Epoch 49/80\n",
      "500/500 - 12s - 25ms/step - accuracy: 0.9995 - loss: 0.0303 - val_accuracy: 0.9858 - val_loss: 0.0820 - learning_rate: 1.0000e-05\n",
      "Epoch 50/80\n",
      "500/500 - 12s - 24ms/step - accuracy: 0.9996 - loss: 0.0302 - val_accuracy: 0.9862 - val_loss: 0.0818 - learning_rate: 1.0000e-05\n",
      "Epoch 51/80\n",
      "500/500 - 12s - 25ms/step - accuracy: 0.9998 - loss: 0.0297 - val_accuracy: 0.9863 - val_loss: 0.0815 - learning_rate: 1.0000e-05\n",
      "Epoch 52/80\n",
      "500/500 - 12s - 24ms/step - accuracy: 0.9997 - loss: 0.0300 - val_accuracy: 0.9862 - val_loss: 0.0821 - learning_rate: 1.0000e-05\n",
      "Epoch 53/80\n",
      "500/500 - 12s - 24ms/step - accuracy: 0.9995 - loss: 0.0301 - val_accuracy: 0.9863 - val_loss: 0.0819 - learning_rate: 1.0000e-05\n",
      "Epoch 54/80\n",
      "500/500 - 12s - 24ms/step - accuracy: 0.9995 - loss: 0.0298 - val_accuracy: 0.9861 - val_loss: 0.0811 - learning_rate: 1.0000e-05\n"
     ]
    }
   ],
   "source": [
    "from tensorflow.keras import regularizers, callbacks\n",
    "from tensorflow.keras.callbacks import ReduceLROnPlateau\n",
    "\n",
    "modelo_fino = tf.keras.Sequential(\n",
    "    [\n",
    "        tf.keras.layers.Flatten(input_shape=(28, 28)),\n",
    "        tf.keras.layers.Dense(\n",
    "            1024, activation=\"relu\", kernel_regularizer=regularizers.l2(0.0001)\n",
    "        ),\n",
    "        tf.keras.layers.Dropout(0.15),\n",
    "        tf.keras.layers.Dense(\n",
    "            512, activation=\"relu\", kernel_regularizer=regularizers.l2(0.0001)\n",
    "        ),\n",
    "        tf.keras.layers.Dropout(0.15),\n",
    "        tf.keras.layers.Dense(\n",
    "            256, activation=\"relu\", kernel_regularizer=regularizers.l2(0.0001)\n",
    "        ),\n",
    "        tf.keras.layers.Dropout(0.15),\n",
    "        tf.keras.layers.Dense(10, activation=\"softmax\"),\n",
    "    ]\n",
    ")\n",
    "\n",
    "modelo_fino.compile(\n",
    "    optimizer=tf.keras.optimizers.Adam(learning_rate=0.001),\n",
    "    loss=\"sparse_categorical_crossentropy\",\n",
    "    metrics=[\"accuracy\"],\n",
    ")\n",
    "\n",
    "early_stop = callbacks.EarlyStopping(\n",
    "    monitor=\"val_accuracy\", patience=10, restore_best_weights=True\n",
    ")\n",
    "reduce_lr = ReduceLROnPlateau(\n",
    "    monitor=\"val_accuracy\", factor=0.5, patience=4, min_lr=1e-5\n",
    ")\n",
    "\n",
    "history_fino = modelo_fino.fit(\n",
    "    datos_entreno,\n",
    "    epochs=80,\n",
    "    batch_size=128,\n",
    "    validation_data=datos_validacion,\n",
    "    callbacks=[early_stop, reduce_lr],\n",
    "    verbose=2,\n",
    ")"
   ]
  },
  {
   "cell_type": "code",
   "execution_count": null,
   "metadata": {},
   "outputs": [
    {
     "name": "stdout",
     "output_type": "stream",
     "text": [
      "100/100 - 1s - 9ms/step - accuracy: 0.9726 - loss: 18.7050\n",
      "Pérdida (modelo fino): 18.7050, Precisión de prueba: 97.26%\n"
     ]
    }
   ],
   "source": [
    "loss_fino, acc_fino = modelo_fino.evaluate(datos_prueba, verbose=2)\n",
    "print(\n",
    "    f\"Pérdida (modelo fino): {loss_fino:.4f}, Precisión de prueba: {acc_fino*100:.2f}%\"\n",
    ")"
   ]
  },
  {
   "cell_type": "code",
   "execution_count": null,
   "metadata": {},
   "outputs": [
    {
     "data": {
      "image/png": "[encoded data removed]",
      "text/plain": [
       "<Figure size 1200x500 with 2 Axes>"
      ]
     },
     "metadata": {},
     "output_type": "display_data"
    },
    {
     "name": "stdout",
     "output_type": "stream",
     "text": [
      "Precisión de validación máxima: 98.44% (época 5)\n"
     ]
    }
   ],
   "source": [
    "import numpy as np\n",
    "\n",
    "max_val_acc = max(history_985_aug.history[\"val_accuracy\"])\n",
    "max_val_epoch = np.argmax(history_985_aug.history[\"val_accuracy\"])\n",
    "\n",
    "plt.figure(figsize=(12, 5))\n",
    "\n",
    "plt.subplot(1, 2, 1)\n",
    "plt.plot(\n",
    "    history_985_aug.history[\"accuracy\"],\n",
    "    \"o-\",\n",
    "    label=\"Entrenamiento\",\n",
    "    color=\"royalblue\",\n",
    "    linewidth=2,\n",
    ")\n",
    "plt.plot(\n",
    "    history_985_aug.history[\"val_accuracy\"],\n",
    "    \"s-\",\n",
    "    label=\"Validación\",\n",
    "    color=\"darkorange\",\n",
    "    linewidth=2,\n",
    ")\n",
    "plt.axvline(\n",
    "    max_val_epoch,\n",
    "    color=\"green\",\n",
    "    linestyle=\"--\",\n",
    "    alpha=0.5,\n",
    "    label=f\"Mejor val (época {max_val_epoch})\",\n",
    ")\n",
    "plt.xlabel(\"Época\")\n",
    "plt.ylabel(\"Precisión\")\n",
    "plt.ylim(0.9, 1.0)\n",
    "plt.title(\"Precisión durante el entrenamiento (Augmentation)\")\n",
    "plt.grid(True, alpha=0.3)\n",
    "plt.legend()\n",
    "\n",
    "plt.subplot(1, 2, 2)\n",
    "plt.plot(\n",
    "    history_985_aug.history[\"loss\"],\n",
    "    \"o-\",\n",
    "    label=\"Entrenamiento\",\n",
    "    color=\"royalblue\",\n",
    "    linewidth=2,\n",
    ")\n",
    "plt.plot(\n",
    "    history_985_aug.history[\"val_loss\"],\n",
    "    \"s-\",\n",
    "    label=\"Validación\",\n",
    "    color=\"darkorange\",\n",
    "    linewidth=2,\n",
    ")\n",
    "plt.xlabel(\"Época\")\n",
    "plt.ylabel(\"Pérdida\")\n",
    "plt.title(\"Pérdida durante el entrenamiento (Augmentation)\")\n",
    "plt.grid(True, alpha=0.3)\n",
    "plt.legend()\n",
    "\n",
    "plt.tight_layout()\n",
    "plt.show()\n",
    "\n",
    "print(f\"Precisión de validación máxima: {max_val_acc*100:.2f}% (época {max_val_epoch})\")"
   ]
  },
  {
   "cell_type": "code",
   "execution_count": null,
   "metadata": {},
   "outputs": [
    {
     "data": {
      "image/png": "[encoded data removed]",
      "text/plain": [
       "<Figure size 1200x500 with 11 Axes>"
      ]
     },
     "metadata": {},
     "output_type": "display_data"
    }
   ],
   "source": [
    "pesos = modelo_985.layers[1].get_weights()[0]\n",
    "\n",
    "plt.figure(figsize=(12, 5))\n",
    "vmax = np.abs(pesos).max()\n",
    "\n",
    "for i in range(10):\n",
    "    plt.subplot(2, 5, i + 1)\n",
    "    plt.imshow(pesos[:, i].reshape(28, 28), cmap=\"seismic\", vmin=-vmax, vmax=vmax)\n",
    "    plt.axis(\"off\")\n",
    "    plt.title(f\"Neurona {i+1}\")\n",
    "plt.suptitle(\"Pesos de la 1ª capa (modelo con augmentation)\")\n",
    "\n",
    "from mpl_toolkits.axes_grid1 import make_axes_locatable\n",
    "\n",
    "ax = plt.gca()\n",
    "divider = make_axes_locatable(ax)\n",
    "cax = divider.append_axes(\"right\", size=\"5%\", pad=0.1)\n",
    "plt.colorbar(ax.images[0], cax=cax, orientation=\"vertical\")\n",
    "\n",
    "plt.show()"
   ]
  },
  {
   "cell_type": "markdown",
   "metadata": {},
   "source": [
    "**Modelo óptimo**\n",
    "\n",
    "**_Arquitectura y configuración final_**\n",
    "\n",
    "- Estructura:\n",
    "- Red densa profunda:\n",
    "\n",
    "  > Flatten -> Dense(512, ReLU) -> Dropout(0.12) -> Dense(256, ReLU) -> Dropout(0.12) -> Dense(128, ReLU) -> Dropout(0.>12) -> Dense(64, ReLU) -> Dropout(0.12) -> Dense(10, Softmax)\n",
    "\n",
    "- Regularización:\n",
    "\n",
    "  > Dropout moderado (0.12) + L2=0.0001 en todas las densas.\n",
    "\n",
    "- Optimización:\n",
    "\n",
    "  > Adam, learning rate 0.001 (con ReduceLROnPlateau para bajar lr cuando se estanca), batch size 128–256.\n",
    "\n",
    "- Entrenamiento:\n",
    "\n",
    "  > EarlyStopping monitorizando validación, paciencia alta.\n"
   ]
  },
  {
   "cell_type": "markdown",
   "metadata": {},
   "source": [
    "**_Resultados_**\n",
    "\n",
    "- Precisión de validación:\n",
    "\n",
    "  > Se alcanzó hasta 98.66% en validación (época 39).\n",
    "\n",
    "- Precisión de prueba:\n",
    "\n",
    "  > Entre 97.2% y 98.2% (fluctúa por inicialización, batch, random, pero consistentemente en el top de DNN para MNIST).\n",
    "\n",
    "- Tiempo de entrenamiento:\n",
    "\n",
    "  > Entre 10 y 14 segundos por época (batch grande y optimización eficiente).\n",
    "\n",
    "- Arquitectura del modelo:\n",
    "  > Profunda, regularizada, evita el overfitting incluso con muchos parámetros.\n",
    "\n",
    "**_Gráficas y visualización_**\n",
    "\n",
    "- Curva de precisión/pérdida:\n",
    "\n",
    "  > Se observa una rápida convergencia, la validación supera 98.5% y el modelo no muestra signos de overfitting.\n",
    "\n",
    "  > El punto de mejor validación está marcado, mostrando el “early stopping” natural.\n",
    "\n",
    "- Visualización de pesos:\n",
    "\n",
    "  > Los patrones aprendidos en la primera capa muestran sensibilidad a rasgos locales indicando que la red aprende características útiles.\n",
    "\n",
    "  > Los pesos son suaves y diferenciados, señal de un modelo regularizado y entrenado correctamente.\n"
   ]
  }
 ],
 "metadata": {
  "kernelspec": {
   "display_name": "Python 3",
   "language": "python",
   "name": "python3"
  },
  "language_info": {
   "codemirror_mode": {
    "name": "ipython",
    "version": 3
   },
   "file_extension": ".py",
   "mimetype": "text/x-python",
   "name": "python",
   "nbconvert_exporter": "python",
   "pygments_lexer": "ipython3",
   "version": "3.13.5"
  }
 },
 "nbformat": 4,
 "nbformat_minor": 4
}
